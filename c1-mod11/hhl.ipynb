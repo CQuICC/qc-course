{
 "cells": [
  {
   "cell_type": "markdown",
   "id": "0e026cf1",
   "metadata": {
    "id": "0e026cf1"
   },
   "source": [
    "# HHL Algorithm\n",
    "\n",
    "#### Code  Adopted from \" Step-by-Step HHL Algorithm Walkthrough to Enhance the Understanding of Critical Quantum Computing Concepts\" - Hector Jose Morrell Jr, Anika Zaman, and Hiu Yung Wong, https://arxiv.org/abs/2108.09004"
   ]
  },
  {
   "cell_type": "code",
   "execution_count": 1,
   "id": "51611e53",
   "metadata": {
    "colab": {
     "base_uri": "https://localhost:8080/",
     "height": 399
    },
    "id": "51611e53",
    "outputId": "19a6954e-79d5-4826-c64a-be2f711f3f8a"
   },
   "outputs": [],
   "source": [
    "from qiskit import QuantumCircuit, ClassicalRegister, QuantumRegister\n",
    "from qiskit.compiler import transpile, assemble\n",
    "from qiskit.visualization import plot_histogram\n",
    "from matplotlib import pyplot as plt\n",
    "from qiskit_aer import Aer\n",
    "from copy import deepcopy\n",
    "import numpy as np"
   ]
  },
  {
   "cell_type": "code",
   "execution_count": 2,
   "id": "efde2e38",
   "metadata": {
    "colab": {
     "base_uri": "https://localhost:8080/",
     "height": 186
    },
    "id": "efde2e38",
    "outputId": "320954fc-f0ff-4292-8553-e2308e75c403"
   },
   "outputs": [
    {
     "data": {
      "text/html": [
       "<pre style=\"word-wrap: normal;white-space: pre;background: #fff0;line-height: 1.1;font-family: &quot;Courier New&quot;,Courier,monospace\">          ░ \n",
       "ancilla: ─░─\n",
       "          ░ \n",
       "clock_0: ─░─\n",
       "          ░ \n",
       "clock_1: ─░─\n",
       "          ░ \n",
       "      b: ─░─\n",
       "          ░ \n",
       "    c: 2/═══\n",
       "            </pre>"
      ],
      "text/plain": [
       "          ░ \n",
       "ancilla: ─░─\n",
       "          ░ \n",
       "clock_0: ─░─\n",
       "          ░ \n",
       "clock_1: ─░─\n",
       "          ░ \n",
       "      b: ─░─\n",
       "          ░ \n",
       "    c: 2/═══\n",
       "            "
      ]
     },
     "execution_count": 2,
     "metadata": {},
     "output_type": "execute_result"
    }
   ],
   "source": [
    "# Create the Quantum and Classical registers needed\n",
    "clock = QuantumRegister(2, name=\"clock\")\n",
    "b_vec = QuantumRegister(1, name=\"b\")\n",
    "ancilla = QuantumRegister(1, name=\"ancilla\")\n",
    "measurement = ClassicalRegister(2, name=\"c\")\n",
    "\n",
    "# Create an empty circuit with the specified registers\n",
    "circuit = QuantumCircuit(ancilla, clock, b_vec, measurement)\n",
    "\n",
    "circuit.barrier()\n",
    "# circuit.draw(output='mpl')\n",
    "circuit.draw()"
   ]
  },
  {
   "cell_type": "code",
   "execution_count": 3,
   "id": "032e0991",
   "metadata": {
    "id": "032e0991"
   },
   "outputs": [],
   "source": [
    "def hhl(circ, ancilla, clock, b_vec, measurement):\n",
    "    qpe(circ, clock, b_vec)\n",
    "\n",
    "    circuit.barrier()\n",
    "    # conditional Rotation\n",
    "    circuit.cry(np.pi, clock[0], ancilla)\n",
    "    circuit.cry(np.pi / 3, clock[1], ancilla)\n",
    "\n",
    "    circuit.barrier()\n",
    "\n",
    "    circuit.measure(ancilla, measurement[0])\n",
    "    circuit.barrier()\n",
    "    inv_qpe(circ, clock, b_vec)"
   ]
  },
  {
   "cell_type": "code",
   "execution_count": 4,
   "id": "d58483b3",
   "metadata": {
    "id": "d58483b3"
   },
   "outputs": [],
   "source": [
    "def qft_dagger(circ, q, n):\n",
    "    circ.h(clock[1])\n",
    "    for j in reversed(range(n)):\n",
    "        for k in reversed(range(j + 1, n)):\n",
    "            circ.cp(-np.pi / float(2 ** (k - j)), q[k], q[j])\n",
    "    circ.h(clock[0])\n",
    "    circ.swap(clock[0], clock[1])\n",
    "\n",
    "\n",
    "def qft(circ, q, n):\n",
    "    circ.swap(clock[0], clock[1])\n",
    "    circ.h(clock[0])\n",
    "    for j in reversed(range(n)):\n",
    "        for k in reversed(range(j + 1, n)):\n",
    "            circ.cp(np.pi / float(2 ** (k - j)), q[k], q[j])\n",
    "    circ.h(clock[1]);"
   ]
  },
  {
   "cell_type": "code",
   "execution_count": 5,
   "id": "8462bd91",
   "metadata": {
    "id": "8462bd91"
   },
   "outputs": [],
   "source": [
    "def qpe(circ, clock, target):\n",
    "    circuit.barrier()\n",
    "\n",
    "    # e^{i*A*t}\n",
    "    circuit.cu(\n",
    "        np.pi / 2, -np.pi / 2, np.pi / 2, 3 * np.pi / 4, clock[0], b_vec, label=\"U\"\n",
    "    )\n",
    "\n",
    "    # e^{i*A*t*2}\n",
    "    circuit.cu(np.pi, np.pi, 0, 0, clock[1], b_vec, label=\"U2\")\n",
    "\n",
    "    circuit.barrier()\n",
    "\n",
    "    # Perform an inverse QFT on the register holding the eigenvalues\n",
    "    qft_dagger(circuit, clock, 2)\n",
    "\n",
    "\n",
    "def inv_qpe(circ, clock, target):\n",
    "\n",
    "    # Perform a QFT on the register holding the eigenvalues\n",
    "    qft(circuit, clock, 2)\n",
    "\n",
    "    circuit.barrier()\n",
    "\n",
    "    # e^{i*A*t*2}\n",
    "    circuit.cu(np.pi, np.pi, 0, 0, clock[1], b_vec, label=\"U2\")\n",
    "\n",
    "    # circuit.barrier();\n",
    "\n",
    "    # e^{i*A*t}\n",
    "    circuit.cu(\n",
    "        np.pi / 2, np.pi / 2, -np.pi / 2, -3 * np.pi / 4, clock[0], b_vec, label=\"U\"\n",
    "    )\n",
    "\n",
    "    circuit.barrier()"
   ]
  },
  {
   "cell_type": "code",
   "execution_count": 6,
   "id": "514b1b5d",
   "metadata": {
    "colab": {
     "base_uri": "https://localhost:8080/"
    },
    "id": "514b1b5d",
    "outputId": "3a0d3763-cb47-4f2e-9135-6b7c5eef6ec4"
   },
   "outputs": [
    {
     "data": {
      "text/plain": [
       "<qiskit.circuit.instructionset.InstructionSet at 0x127b76e90>"
      ]
     },
     "execution_count": 6,
     "metadata": {},
     "output_type": "execute_result"
    }
   ],
   "source": [
    "# State preparation.\n",
    "intial_state = [0, 1]\n",
    "circuit.initialize(intial_state, 3)\n",
    "\n",
    "circuit.barrier()\n",
    "\n",
    "# Perform a Hadamard Transform\n",
    "circuit.h(clock)\n",
    "\n",
    "hhl(circuit, ancilla, clock, b_vec, measurement)\n",
    "\n",
    "# Perform a Hadamard Transform\n",
    "circuit.h(clock)\n",
    "circuit.barrier()\n",
    "circuit.measure(b_vec, measurement[1])"
   ]
  },
  {
   "cell_type": "code",
   "execution_count": 7,
   "id": "f415cd1d",
   "metadata": {
    "colab": {
     "base_uri": "https://localhost:8080/",
     "height": 695
    },
    "id": "f415cd1d",
    "outputId": "65e9d142-625d-4b09-89d9-a21a341f3e63"
   },
   "outputs": [
    {
     "data": {
      "text/html": [
       "<pre style=\"word-wrap: normal;white-space: pre;background: #fff0;line-height: 1.1;font-family: &quot;Courier New&quot;,Courier,monospace\">          ░                     ░       ░                         »\n",
       "ancilla: ─░─────────────────────░───────░─────────────────────────»\n",
       "          ░                     ░ ┌───┐ ░            U            »\n",
       "clock_0: ─░─────────────────────░─┤ H ├─░────────────■────────────»\n",
       "          ░                     ░ ├───┤ ░            │            »\n",
       "clock_1: ─░─────────────────────░─┤ H ├─░────────────┼────────────»\n",
       "          ░ ┌─────────────────┐ ░ └───┘ ░ ┌──────────┴───────────┐»\n",
       "      b: ─░─┤ Initialize(0,1) ├─░───────░─┤ U(π/2,-π/2,π/2,3π/4) ├»\n",
       "          ░ └─────────────────┘ ░       ░ └──────────────────────┘»\n",
       "    c: 2/═════════════════════════════════════════════════════════»\n",
       "                                                                  »\n",
       "«                        ░                         ░ ┌───────┐┌─────────┐ ░ ┌─┐»\n",
       "«ancilla: ───────────────░─────────────────────────░─┤ Ry(π) ├┤ Ry(π/3) ├─░─┤M├»\n",
       "«                        ░                ┌───┐    ░ └───┬───┘└────┬────┘ ░ └╥┘»\n",
       "«clock_0: ───────────────░───────■────────┤ H ├─X──░─────■─────────┼──────░──╫─»\n",
       "«               U2       ░ ┌───┐ │P(-π/2) └───┘ │  ░               │      ░  ║ »\n",
       "«clock_1: ──────■────────░─┤ H ├─■──────────────X──░───────────────■──────░──╫─»\n",
       "«         ┌─────┴──────┐ ░ └───┘                   ░                      ░  ║ »\n",
       "«      b: ┤ U(π,π,0,0) ├─░─────────────────────────░──────────────────────░──╫─»\n",
       "«         └────────────┘ ░                         ░                      ░  ║ »\n",
       "«    c: 2/═══════════════════════════════════════════════════════════════════╩═»\n",
       "«                                                                            0 »\n",
       "«          ░                        ░                                        »\n",
       "«ancilla: ─░────────────────────────░────────────────────────────────────────»\n",
       "«          ░    ┌───┐               ░                           U            »\n",
       "«clock_0: ─░──X─┤ H ├─■─────────────░───────────────────────────■────────────»\n",
       "«          ░  │ └───┘ │P(π/2) ┌───┐ ░       U2                  │            »\n",
       "«clock_1: ─░──X───────■───────┤ H ├─░───────■───────────────────┼────────────»\n",
       "«          ░                  └───┘ ░ ┌─────┴──────┐┌───────────┴───────────┐»\n",
       "«      b: ─░────────────────────────░─┤ U(π,π,0,0) ├┤ U(π/2,π/2,-π/2,-3π/4) ├»\n",
       "«          ░                        ░ └────────────┘└───────────────────────┘»\n",
       "«    c: 2/═══════════════════════════════════════════════════════════════════»\n",
       "«                                                                            »\n",
       "«          ░       ░    \n",
       "«ancilla: ─░───────░────\n",
       "«          ░ ┌───┐ ░    \n",
       "«clock_0: ─░─┤ H ├─░────\n",
       "«          ░ ├───┤ ░    \n",
       "«clock_1: ─░─┤ H ├─░────\n",
       "«          ░ └───┘ ░ ┌─┐\n",
       "«      b: ─░───────░─┤M├\n",
       "«          ░       ░ └╥┘\n",
       "«    c: 2/════════════╩═\n",
       "«                     1 </pre>"
      ],
      "text/plain": [
       "          ░                     ░       ░                         »\n",
       "ancilla: ─░─────────────────────░───────░─────────────────────────»\n",
       "          ░                     ░ ┌───┐ ░            U            »\n",
       "clock_0: ─░─────────────────────░─┤ H ├─░────────────■────────────»\n",
       "          ░                     ░ ├───┤ ░            │            »\n",
       "clock_1: ─░─────────────────────░─┤ H ├─░────────────┼────────────»\n",
       "          ░ ┌─────────────────┐ ░ └───┘ ░ ┌──────────┴───────────┐»\n",
       "      b: ─░─┤ Initialize(0,1) ├─░───────░─┤ U(π/2,-π/2,π/2,3π/4) ├»\n",
       "          ░ └─────────────────┘ ░       ░ └──────────────────────┘»\n",
       "    c: 2/═════════════════════════════════════════════════════════»\n",
       "                                                                  »\n",
       "«                        ░                         ░ ┌───────┐┌─────────┐ ░ ┌─┐»\n",
       "«ancilla: ───────────────░─────────────────────────░─┤ Ry(π) ├┤ Ry(π/3) ├─░─┤M├»\n",
       "«                        ░                ┌───┐    ░ └───┬───┘└────┬────┘ ░ └╥┘»\n",
       "«clock_0: ───────────────░───────■────────┤ H ├─X──░─────■─────────┼──────░──╫─»\n",
       "«               U2       ░ ┌───┐ │P(-π/2) └───┘ │  ░               │      ░  ║ »\n",
       "«clock_1: ──────■────────░─┤ H ├─■──────────────X──░───────────────■──────░──╫─»\n",
       "«         ┌─────┴──────┐ ░ └───┘                   ░                      ░  ║ »\n",
       "«      b: ┤ U(π,π,0,0) ├─░─────────────────────────░──────────────────────░──╫─»\n",
       "«         └────────────┘ ░                         ░                      ░  ║ »\n",
       "«    c: 2/═══════════════════════════════════════════════════════════════════╩═»\n",
       "«                                                                            0 »\n",
       "«          ░                        ░                                        »\n",
       "«ancilla: ─░────────────────────────░────────────────────────────────────────»\n",
       "«          ░    ┌───┐               ░                           U            »\n",
       "«clock_0: ─░──X─┤ H ├─■─────────────░───────────────────────────■────────────»\n",
       "«          ░  │ └───┘ │P(π/2) ┌───┐ ░       U2                  │            »\n",
       "«clock_1: ─░──X───────■───────┤ H ├─░───────■───────────────────┼────────────»\n",
       "«          ░                  └───┘ ░ ┌─────┴──────┐┌───────────┴───────────┐»\n",
       "«      b: ─░────────────────────────░─┤ U(π,π,0,0) ├┤ U(π/2,π/2,-π/2,-3π/4) ├»\n",
       "«          ░                        ░ └────────────┘└───────────────────────┘»\n",
       "«    c: 2/═══════════════════════════════════════════════════════════════════»\n",
       "«                                                                            »\n",
       "«          ░       ░    \n",
       "«ancilla: ─░───────░────\n",
       "«          ░ ┌───┐ ░    \n",
       "«clock_0: ─░─┤ H ├─░────\n",
       "«          ░ ├───┤ ░    \n",
       "«clock_1: ─░─┤ H ├─░────\n",
       "«          ░ └───┘ ░ ┌─┐\n",
       "«      b: ─░───────░─┤M├\n",
       "«          ░       ░ └╥┘\n",
       "«    c: 2/════════════╩═\n",
       "«                     1 "
      ]
     },
     "execution_count": 7,
     "metadata": {},
     "output_type": "execute_result"
    }
   ],
   "source": [
    "circuit.draw(scale=1)"
   ]
  },
  {
   "cell_type": "code",
   "execution_count": 9,
   "id": "a513e761",
   "metadata": {
    "colab": {
     "base_uri": "https://localhost:8080/",
     "height": 463
    },
    "id": "a513e761",
    "outputId": "5a797e64-6d58-4f82-abae-3ba1dd795ef5"
   },
   "outputs": [
    {
     "data": {
      "image/png": "[encoded data removed]",
      "text/plain": [
       "<Figure size 640x480 with 1 Axes>"
      ]
     },
     "execution_count": 9,
     "metadata": {},
     "output_type": "execute_result"
    }
   ],
   "source": [
    "simulator = Aer.get_backend(\"qasm_simulator\")\n",
    "job = simulator.run(transpile(circuit, simulator), shots=65536)\n",
    "\n",
    "# Get the result of the execution\n",
    "result = job.result()\n",
    "\n",
    "# Get the counts, the frequency of each answer\n",
    "counts = result.get_counts(circuit)\n",
    "\n",
    "# Display the results\n",
    "plot_histogram(counts)"
   ]
  }
 ],
 "metadata": {
  "colab": {
   "provenance": []
  },
  "kernelspec": {
   "display_name": "Python 3 (ipykernel)",
   "language": "python",
   "name": "python3"
  },
  "language_info": {
   "codemirror_mode": {
    "name": "ipython",
    "version": 3
   },
   "file_extension": ".py",
   "mimetype": "text/x-python",
   "name": "python",
   "nbconvert_exporter": "python",
   "pygments_lexer": "ipython3",
   "version": "3.10.14"
  }
 },
 "nbformat": 4,
 "nbformat_minor": 5
}
