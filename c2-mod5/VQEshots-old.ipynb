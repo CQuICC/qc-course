{
 "cells": [
  {
   "cell_type": "code",
   "execution_count": 1,
   "id": "d4c3d5c6",
   "metadata": {},
   "outputs": [
    {
     "name": "stdout",
     "output_type": "stream",
     "text": [
      "pyscf==2.8.0\n",
      "qiskit==0.44.0\n",
      "qiskit-aer==0.12.0\n",
      "qiskit-nature==0.6.2\n",
      "qiskit-terra==0.25.0\n"
     ]
    }
   ],
   "source": [
    "!pip freeze | grep -E \"qiskit|pyscf\""
   ]
  },
  {
   "cell_type": "markdown",
   "id": "da83a4c9-2b17-4bc9-9dd5-713feaa07cd5",
   "metadata": {},
   "source": [
    "# Effect of measurement *shots* on VQE simulation"
   ]
  },
  {
   "cell_type": "code",
   "execution_count": 2,
   "id": "81daea34-2a91-4441-9252-3327a492ae4f",
   "metadata": {
    "tags": []
   },
   "outputs": [],
   "source": [
    "import warnings\n",
    "\n",
    "warnings.filterwarnings(\"ignore\")"
   ]
  },
  {
   "cell_type": "markdown",
   "id": "b6421e7e-efad-4822-8efa-23cc2e2a04ba",
   "metadata": {},
   "source": [
    "## Electronic Structure Problem"
   ]
  },
  {
   "cell_type": "code",
   "execution_count": 3,
   "id": "836ad857-60d7-49c9-896b-ae73e8320600",
   "metadata": {
    "tags": []
   },
   "outputs": [],
   "source": [
    "import numpy as np\n",
    "import pylab\n",
    "from qiskit import Aer\n",
    "from qiskit.utils import QuantumInstance, algorithm_globals\n",
    "from qiskit.algorithms import VQE, NumPyMinimumEigensolver\n",
    "from qiskit.algorithms.optimizers import SLSQP, COBYLA, L_BFGS_B, SPSA\n",
    "from qiskit.circuit.library import TwoLocal\n",
    "from qiskit_nature.drivers import Molecule, UnitsType\n",
    "from qiskit_nature.drivers.second_quantization import (\n",
    "    ElectronicStructureDriverType,\n",
    "    ElectronicStructureMoleculeDriver,\n",
    ")\n",
    "from qiskit_nature.problems.second_quantization import ElectronicStructureProblem\n",
    "from qiskit_nature.converters.second_quantization import QubitConverter\n",
    "from qiskit_nature.mappers.second_quantization import ParityMapper, JordanWignerMapper\n",
    "\n",
    "from qiskit_nature.transformers.second_quantization.electronic import (\n",
    "    ActiveSpaceTransformer,\n",
    ")\n",
    "from qiskit_nature.algorithms import GroundStateEigensolver, VQEUCCFactory"
   ]
  },
  {
   "cell_type": "code",
   "execution_count": 4,
   "id": "9c423352-072d-48f6-9c15-40c6f52edbed",
   "metadata": {
    "tags": []
   },
   "outputs": [],
   "source": [
    "molecule = Molecule(\n",
    "    geometry=[[\"H\", [0.0, 0.0, 0.0]], [\"H\", [0.0, 0.0, 0.735]]],\n",
    "    multiplicity=1,\n",
    "    charge=0,\n",
    "    units=UnitsType.ANGSTROM,\n",
    ")"
   ]
  },
  {
   "cell_type": "code",
   "execution_count": 5,
   "id": "0101299d-4668-4498-a285-8f85f048a472",
   "metadata": {
    "tags": []
   },
   "outputs": [],
   "source": [
    "driver = ElectronicStructureMoleculeDriver(\n",
    "    molecule, basis=\"sto-3g\", driver_type=ElectronicStructureDriverType.PYSCF\n",
    ")\n",
    "\n",
    "properties = driver.run()"
   ]
  },
  {
   "cell_type": "code",
   "execution_count": 6,
   "id": "0191d65a-530c-470e-b6fa-516fac7e2bf5",
   "metadata": {
    "tags": []
   },
   "outputs": [
    {
     "name": "stdout",
     "output_type": "stream",
     "text": [
      "number of alpha electrons:  1\n",
      "number of beta electrons:  1\n",
      "number of spin orbitals:  4\n",
      "nuclear repulsion energy:  0.7199689944489797\n"
     ]
    }
   ],
   "source": [
    "num_alpha_electrons = properties.get_property(\"ParticleNumber\").num_alpha\n",
    "num_beta_electrons = properties.get_property(\"ParticleNumber\").num_beta\n",
    "num_spin_orbitals = int(properties.get_property(\"ParticleNumber\").num_spin_orbitals)\n",
    "\n",
    "nuclear_rep_energy = properties.get_property(\n",
    "    \"ElectronicEnergy\"\n",
    ").nuclear_repulsion_energy\n",
    "print(\"number of alpha electrons: \", num_alpha_electrons)\n",
    "print(\"number of beta electrons: \", num_beta_electrons)\n",
    "print(\"number of spin orbitals: \", num_spin_orbitals)\n",
    "print(\"nuclear repulsion energy: \", nuclear_rep_energy)"
   ]
  },
  {
   "cell_type": "code",
   "execution_count": 7,
   "id": "921fc06a-c48c-4c7e-9a5b-f65014662d42",
   "metadata": {
    "tags": []
   },
   "outputs": [],
   "source": [
    "# Check the occupation of the spin orbitals\n",
    "PN_property = properties.get_property(\"ParticleNumber\")"
   ]
  },
  {
   "cell_type": "code",
   "execution_count": 8,
   "id": "5ae33984-8268-47db-861e-36ec605cd5e4",
   "metadata": {
    "tags": []
   },
   "outputs": [],
   "source": [
    "# Define the active space around the Fermi level\n",
    "# (selected automatically around the HOMO and LUMO, ordered by energy)\n",
    "transformer = ActiveSpaceTransformer(\n",
    "    num_electrons=2,  # Number of electrons in our active space\n",
    "    num_molecular_orbitals=2,  # Number of orbitals in our active space\n",
    "    # active_orbitals=[18,19]\n",
    ")\n",
    "# Now you can get the reduced electronic structure problem\n",
    "problem_reduced = ElectronicStructureProblem(driver, transformers=[transformer])\n",
    "\n",
    "# The second quantized Hamiltonian of the reduce problem\n",
    "second_q_ops_reduced = problem_reduced.second_q_ops()"
   ]
  },
  {
   "cell_type": "code",
   "execution_count": 9,
   "id": "0c750289-6918-474d-a1a9-8fde4b52c1a5",
   "metadata": {
    "tags": []
   },
   "outputs": [
    {
     "name": "stdout",
     "output_type": "stream",
     "text": [
      "-0.8105479805373274 * IIII\n",
      "+ 0.17218393261915538 * IIIZ\n",
      "- 0.22575349222402374 * IIZZ\n",
      "+ 0.1721839326191554 * IZZI\n",
      "- 0.22575349222402377 * ZZII\n",
      "+ 0.12091263261776633 * IIZI\n",
      "+ 0.16892753870087907 * IZZZ\n",
      "+ 0.04523279994605785 * ZXIX\n",
      "- 0.04523279994605785 * IXZX\n",
      "- 0.04523279994605785 * ZXZX\n",
      "+ 0.04523279994605785 * IXIX\n",
      "+ 0.16614543256382416 * ZZIZ\n",
      "+ 0.16614543256382416 * IZIZ\n",
      "+ 0.17464343068300436 * ZZZZ\n",
      "+ 0.12091263261776633 * ZIZI\n"
     ]
    }
   ],
   "source": [
    "# Setup the mapper and qubit converter\n",
    "mapper_type = \"ParityMapper\"\n",
    "\n",
    "if mapper_type == \"ParityMapper\":\n",
    "    mapper = ParityMapper()\n",
    "elif mapper_type == \"JordanWignerMapper\":\n",
    "    mapper = JordanWignerMapper()\n",
    "elif mapper_type == \"BravyiKitaevMapper\":\n",
    "    mapper = BravyiKitaevMapper()\n",
    "\n",
    "\n",
    "converter = QubitConverter(mapper)\n",
    "\n",
    "qubit_op = converter.convert(second_q_ops_reduced[\"ElectronicEnergy\"])\n",
    "print(qubit_op)"
   ]
  },
  {
   "cell_type": "code",
   "execution_count": 10,
   "id": "1623700a-2990-4bc5-971d-fc2b80afc070",
   "metadata": {
    "tags": []
   },
   "outputs": [
    {
     "name": "stdout",
     "output_type": "stream",
     "text": [
      "-1.0523732457728596 * II\n",
      "+ 0.39793742484317896 * IZ\n",
      "- 0.39793742484317907 * ZI\n",
      "- 0.011280104256235102 * ZZ\n",
      "+ 0.1809311997842313 * XX\n"
     ]
    }
   ],
   "source": [
    "# Set the mapper to qubits\n",
    "parity_mapper = ParityMapper()  # This is the example of parity mapping\n",
    "\n",
    "# Set the qubit converter with two qubit reduction to reduce the computational cost\n",
    "parity_converter = QubitConverter(parity_mapper, two_qubit_reduction=True)\n",
    "\n",
    "# Compute the Hamitonian in qubit form\n",
    "qubit_op_parity = parity_converter.convert(\n",
    "    second_q_ops_reduced.get(\"ElectronicEnergy\"),\n",
    "    num_particles=problem_reduced.num_particles,\n",
    ")\n",
    "\n",
    "print(qubit_op_parity)"
   ]
  },
  {
   "cell_type": "markdown",
   "id": "5f221c95-938d-4662-82d4-04f7553b5ee2",
   "metadata": {},
   "source": [
    "### Exact Solution"
   ]
  },
  {
   "cell_type": "code",
   "execution_count": 11,
   "id": "8593a64e-2a2f-4972-a60c-15a081f6cd70",
   "metadata": {
    "tags": []
   },
   "outputs": [
    {
     "name": "stdout",
     "output_type": "stream",
     "text": [
      "Reference energy :  (-1.1373060357534013+0j)\n"
     ]
    }
   ],
   "source": [
    "from qiskit.algorithms import NumPyMinimumEigensolver\n",
    "\n",
    "numpy_solver = NumPyMinimumEigensolver()\n",
    "\n",
    "# solver = GroundStateEigensolver(parity_converter, vqe_factory)  # Define Numpy\n",
    "solver = GroundStateEigensolver(parity_converter, numpy_solver)\n",
    "real_solution_t = solver.solve(problem_reduced).total_energies[0]\n",
    "# real_solution_t = solver.solve(problem_reduced)\n",
    "print(\"Reference energy : \", real_solution_t)"
   ]
  },
  {
   "cell_type": "code",
   "execution_count": 12,
   "id": "7b9cccdf-5a58-4e7e-8a1b-f5ca4b0be5fe",
   "metadata": {
    "tags": []
   },
   "outputs": [
    {
     "name": "stdout",
     "output_type": "stream",
     "text": [
      "Reference energy: -1.85728\n"
     ]
    }
   ],
   "source": [
    "npme = NumPyMinimumEigensolver()\n",
    "result = npme.compute_minimum_eigenvalue(operator=qubit_op_parity)\n",
    "# print(result)\n",
    "ref_value = result.eigenvalue.real\n",
    "print(f\"Reference energy: {ref_value:.5f}\")"
   ]
  },
  {
   "cell_type": "markdown",
   "id": "9e577e44-2c94-44a0-9991-dc366e5c2bbe",
   "metadata": {},
   "source": [
    "### UCCSD Ansatz"
   ]
  },
  {
   "cell_type": "code",
   "execution_count": 13,
   "id": "4375e355-64b6-477c-b841-d96bc29478ab",
   "metadata": {
    "tags": []
   },
   "outputs": [
    {
     "name": "stdout",
     "output_type": "stream",
     "text": [
      "Number of parameters in UCC ansatz: 3\n",
      "Depth of UCC ansatz: 4\n"
     ]
    },
    {
     "data": {
      "image/png": "[encoded data removed]",
      "text/plain": [
       "<Figure size 1541.46x200.667 with 1 Axes>"
      ]
     },
     "execution_count": 13,
     "metadata": {},
     "output_type": "execute_result"
    }
   ],
   "source": [
    "from qiskit_nature.circuit.library import HartreeFock, UCC\n",
    "\n",
    "init_state = HartreeFock(\n",
    "    num_spin_orbitals=problem_reduced.num_spin_orbitals,\n",
    "    num_particles=problem_reduced.num_particles,\n",
    "    qubit_converter=parity_converter,\n",
    ")\n",
    "\n",
    "ansatz_ucc = UCC(\n",
    "    qubit_converter=parity_converter,\n",
    "    num_particles=problem_reduced.num_particles,\n",
    "    num_spin_orbitals=problem_reduced.num_spin_orbitals,\n",
    "    excitations=\"sd\",\n",
    "    initial_state=init_state,\n",
    ")\n",
    "print(\"Number of parameters in UCC ansatz:\", len(ansatz_ucc.parameters))\n",
    "print(\"Depth of UCC ansatz:\", ansatz_ucc.decompose().depth())\n",
    "ansatz_ucc.decompose(reps=3).draw(\"mpl\")"
   ]
  },
  {
   "cell_type": "markdown",
   "id": "960926eb-aa14-4789-a5c5-9444e2191e1e",
   "metadata": {},
   "source": [
    "### Running VQE simulation on *Aer* Simulator"
   ]
  },
  {
   "cell_type": "code",
   "execution_count": 14,
   "id": "e51bad20-dba6-41ee-a842-3544c049ee09",
   "metadata": {
    "tags": []
   },
   "outputs": [],
   "source": [
    "from qiskit import Aer\n",
    "from qiskit.utils import QuantumInstance, algorithm_globals"
   ]
  },
  {
   "cell_type": "markdown",
   "id": "19010938-9cf4-44ef-8192-49f6e0e953c3",
   "metadata": {},
   "source": [
    "### Running VQE simulation with 4000 shots"
   ]
  },
  {
   "cell_type": "code",
   "execution_count": 15,
   "id": "746366a3-f7fa-4b59-b1eb-5bd15732d699",
   "metadata": {
    "tags": []
   },
   "outputs": [
    {
     "name": "stdout",
     "output_type": "stream",
     "text": [
      "VQE on Aer qasm simulator (no noise): -1.85886\n",
      "Delta from reference energy value is -0.00158\n"
     ]
    }
   ],
   "source": [
    "seed = 170\n",
    "iterations = 125\n",
    "algorithm_globals.random_seed = seed\n",
    "backend = Aer.get_backend(\"aer_simulator\")\n",
    "qi = QuantumInstance(\n",
    "    backend=backend, seed_simulator=seed, seed_transpiler=seed, shots=4000\n",
    ")\n",
    "\n",
    "counts = []\n",
    "values = []\n",
    "\n",
    "\n",
    "def store_intermediate_result(eval_count, parameters, mean, std):\n",
    "    counts.append(eval_count)\n",
    "    values.append(mean)\n",
    "\n",
    "\n",
    "ansatz = ansatz_ucc\n",
    "# ansatz = TwoLocal(rotation_blocks='ry', entanglement_blocks='cz')\n",
    "spsa = SPSA(maxiter=iterations)\n",
    "vqe = VQE(\n",
    "    ansatz, optimizer=spsa, callback=store_intermediate_result, quantum_instance=qi\n",
    ")\n",
    "result = vqe.compute_minimum_eigenvalue(operator=qubit_op_parity)\n",
    "dev = result.eigenvalue.real - ref_value\n",
    "print(f\"VQE on Aer qasm simulator (no noise): {result.eigenvalue.real:.5f}\")\n",
    "print(\n",
    "    f\"Delta from reference energy value is {(result.eigenvalue.real - ref_value):.5f}\"\n",
    ")"
   ]
  },
  {
   "cell_type": "markdown",
   "id": "e089e7c1-4268-487c-b6aa-7abd7dc427bb",
   "metadata": {
    "tags": []
   },
   "source": [
    "### Running VQE simulation with 10000 shots"
   ]
  },
  {
   "cell_type": "code",
   "execution_count": 16,
   "id": "67d4966d-edb2-41fc-9465-2f6b85311c46",
   "metadata": {
    "tags": []
   },
   "outputs": [
    {
     "name": "stdout",
     "output_type": "stream",
     "text": [
      "VQE on Aer qasm simulator (no noise): -1.85869\n",
      "Delta from reference energy value is -0.00142\n"
     ]
    }
   ],
   "source": [
    "seed = 170\n",
    "iterations = 125\n",
    "algorithm_globals.random_seed = seed\n",
    "backend = Aer.get_backend(\"aer_simulator\")\n",
    "qi = QuantumInstance(\n",
    "    backend=backend, seed_simulator=seed, seed_transpiler=seed, shots=10000\n",
    ")\n",
    "\n",
    "counts = []\n",
    "values = []\n",
    "\n",
    "\n",
    "def store_intermediate_result(eval_count, parameters, mean, std):\n",
    "    counts.append(eval_count)\n",
    "    values.append(mean)\n",
    "\n",
    "\n",
    "ansatz = ansatz_ucc\n",
    "# ansatz = TwoLocal(rotation_blocks='ry', entanglement_blocks='cz')\n",
    "spsa = SPSA(maxiter=iterations)\n",
    "vqe = VQE(\n",
    "    ansatz, optimizer=spsa, callback=store_intermediate_result, quantum_instance=qi\n",
    ")\n",
    "result = vqe.compute_minimum_eigenvalue(operator=qubit_op_parity)\n",
    "dev1 = np.abs(result.eigenvalue.real - ref_value)\n",
    "print(f\"VQE on Aer qasm simulator (no noise): {result.eigenvalue.real:.5f}\")\n",
    "print(\n",
    "    f\"Delta from reference energy value is {(result.eigenvalue.real - ref_value):.5f}\"\n",
    ")"
   ]
  },
  {
   "cell_type": "markdown",
   "id": "bb69cb3d-a64f-4cb2-bede-0082830fc191",
   "metadata": {},
   "source": [
    "### Running VQE simulation with 100000 shots"
   ]
  },
  {
   "cell_type": "code",
   "execution_count": 17,
   "id": "93901d5f-30c2-4615-9323-44ffece27f14",
   "metadata": {
    "tags": []
   },
   "outputs": [
    {
     "name": "stdout",
     "output_type": "stream",
     "text": [
      "VQE on Aer qasm simulator (no noise): -1.85599\n",
      "Delta from reference energy value is 0.00128\n"
     ]
    }
   ],
   "source": [
    "seed = 170\n",
    "iterations = 125\n",
    "algorithm_globals.random_seed = seed\n",
    "backend = Aer.get_backend(\"aer_simulator\")\n",
    "qi = QuantumInstance(\n",
    "    backend=backend, seed_simulator=seed, seed_transpiler=seed, shots=100000\n",
    ")\n",
    "\n",
    "counts = []\n",
    "values = []\n",
    "\n",
    "\n",
    "def store_intermediate_result(eval_count, parameters, mean, std):\n",
    "    counts.append(eval_count)\n",
    "    values.append(mean)\n",
    "\n",
    "\n",
    "ansatz = ansatz_ucc\n",
    "# ansatz = TwoLocal(rotation_blocks='ry', entanglement_blocks='cz')\n",
    "spsa = SPSA(maxiter=iterations)\n",
    "vqe = VQE(\n",
    "    ansatz, optimizer=spsa, callback=store_intermediate_result, quantum_instance=qi\n",
    ")\n",
    "result = vqe.compute_minimum_eigenvalue(operator=qubit_op_parity)\n",
    "dev2 = result.eigenvalue.real - ref_value\n",
    "print(f\"VQE on Aer qasm simulator (no noise): {result.eigenvalue.real:.5f}\")\n",
    "print(\n",
    "    f\"Delta from reference energy value is {(result.eigenvalue.real - ref_value):.5f}\"\n",
    ")"
   ]
  },
  {
   "cell_type": "markdown",
   "id": "79110c95-9279-4154-b405-1cc552967dc3",
   "metadata": {},
   "source": [
    "### Running VQE simulation with 500000 shots"
   ]
  },
  {
   "cell_type": "code",
   "execution_count": 18,
   "id": "5548d963-4774-4be7-9545-258a5df4711b",
   "metadata": {
    "tags": []
   },
   "outputs": [
    {
     "name": "stdout",
     "output_type": "stream",
     "text": [
      "VQE on Aer qasm simulator (no noise): -1.85699\n",
      "Delta from reference energy value is 0.00028\n"
     ]
    }
   ],
   "source": [
    "seed = 170\n",
    "iterations = 125\n",
    "algorithm_globals.random_seed = seed\n",
    "backend = Aer.get_backend(\"aer_simulator\")\n",
    "qi = QuantumInstance(\n",
    "    backend=backend, seed_simulator=seed, seed_transpiler=seed, shots=500000\n",
    ")\n",
    "\n",
    "counts = []\n",
    "values = []\n",
    "\n",
    "\n",
    "def store_intermediate_result(eval_count, parameters, mean, std):\n",
    "    counts.append(eval_count)\n",
    "    values.append(mean)\n",
    "\n",
    "\n",
    "ansatz = ansatz_ucc\n",
    "# ansatz = TwoLocal(rotation_blocks='ry', entanglement_blocks='cz')\n",
    "spsa = SPSA(maxiter=iterations)\n",
    "vqe = VQE(\n",
    "    ansatz, optimizer=spsa, callback=store_intermediate_result, quantum_instance=qi\n",
    ")\n",
    "result = vqe.compute_minimum_eigenvalue(operator=qubit_op_parity)\n",
    "dev3 = result.eigenvalue.real - ref_value\n",
    "print(f\"VQE on Aer qasm simulator (no noise): {result.eigenvalue.real:.5f}\")\n",
    "print(\n",
    "    f\"Delta from reference energy value is {(result.eigenvalue.real - ref_value):.5f}\"\n",
    ")"
   ]
  },
  {
   "cell_type": "code",
   "execution_count": 19,
   "id": "b47c0400-9709-4532-9ca3-26afa9dc0cb4",
   "metadata": {
    "tags": []
   },
   "outputs": [
    {
     "data": {
      "text/plain": [
       "Text(0.5, 1.0, 'Deviation from exact solution')"
      ]
     },
     "execution_count": 19,
     "metadata": {},
     "output_type": "execute_result"
    },
    {
     "data": {
      "image/png": "[encoded data removed]",
      "text/plain": [
       "<Figure size 640x480 with 1 Axes>"
      ]
     },
     "metadata": {},
     "output_type": "display_data"
    }
   ],
   "source": [
    "import matplotlib.pyplot as plt\n",
    "\n",
    "deviation = [abs(dev), abs(dev1), dev2, dev3]\n",
    "x_labels = [\"4k\", \"10k\", \"100k\", \"500k\"]\n",
    "\n",
    "plt.bar(x_labels, deviation, color=\"blue\")\n",
    "plt.xlabel(\"No. of Shots\")\n",
    "plt.ylabel(\"Energy (hartree)\")\n",
    "plt.title(\"Deviation from exact solution\")"
   ]
  }
 ],
 "metadata": {
  "kernelspec": {
   "display_name": "fuck_qiskit",
   "language": "python",
   "name": "python3"
  },
  "language_info": {
   "codemirror_mode": {
    "name": "ipython",
    "version": 3
   },
   "file_extension": ".py",
   "mimetype": "text/x-python",
   "name": "python",
   "nbconvert_exporter": "python",
   "pygments_lexer": "ipython3",
   "version": "3.11.11"
  },
  "widgets": {
   "application/vnd.jupyter.widget-state+json": {
    "state": {
     "013d7a2ec77b464ab80d9c0e9b0d5bf0": {
      "model_module": "@jupyter-widgets/controls",
      "model_module_version": "2.0.0",
      "model_name": "HTMLModel",
      "state": {
       "layout": "IPY_MODEL_24eb1937de4844da9f3abbbc013dd5ff",
       "style": "IPY_MODEL_4d69056237d4407899c10523c8e5ec03",
       "value": "<h5>Status</h5>"
      }
     },
     "0303c6b5d63c4d97af97612c65fa0302": {
      "model_module": "@jupyter-widgets/base",
      "model_module_version": "2.0.0",
      "model_name": "LayoutModel",
      "state": {
       "grid_template_areas": "\n                                       \". . . . right \"\n                                        ",
       "grid_template_columns": "20% 20% 20% 20% 20%",
       "width": "100%"
      }
     },
     "083eb3c574744dae99cb8e4d485feb0b": {
      "model_module": "@jupyter-widgets/controls",
      "model_module_version": "2.0.0",
      "model_name": "HTMLStyleModel",
      "state": {
       "description_width": "",
       "font_size": null,
       "text_color": null
      }
     },
     "12464ec92bdd4eb4943622796b6a5653": {
      "model_module": "@jupyter-widgets/base",
      "model_module_version": "2.0.0",
      "model_name": "LayoutModel",
      "state": {
       "margin": "0px 0px 10px 0px"
      }
     },
     "147fc6d3b1be44cca110f80a912cc2a9": {
      "model_module": "@jupyter-widgets/base",
      "model_module_version": "2.0.0",
      "model_name": "LayoutModel",
      "state": {
       "width": "70px"
      }
     },
     "2415749748934e6b98357630602f77eb": {
      "model_module": "@jupyter-widgets/controls",
      "model_module_version": "2.0.0",
      "model_name": "HBoxModel",
      "state": {
       "children": [
        "IPY_MODEL_fca7e9b4bd6948cd8f74adcf78fa2759",
        "IPY_MODEL_a6ddbc8e9f164d75a316e00acfef2590",
        "IPY_MODEL_013d7a2ec77b464ab80d9c0e9b0d5bf0",
        "IPY_MODEL_515878499e6d40cda0b34ab7bf86e8e0",
        "IPY_MODEL_eb860fa7ed5848e2843d40a3e7b46141"
       ],
       "layout": "IPY_MODEL_9dc6d1b6381b4de089531c6d5bfae249"
      }
     },
     "24eb1937de4844da9f3abbbc013dd5ff": {
      "model_module": "@jupyter-widgets/base",
      "model_module_version": "2.0.0",
      "model_name": "LayoutModel",
      "state": {
       "width": "95px"
      }
     },
     "482ddb421e3349b58c38e50640c70ad2": {
      "model_module": "@jupyter-widgets/controls",
      "model_module_version": "2.0.0",
      "model_name": "HTMLStyleModel",
      "state": {
       "description_width": "",
       "font_size": null,
       "text_color": null
      }
     },
     "4971dc4f50b84730868d7c075d4cfdf7": {
      "model_module": "@jupyter-widgets/controls",
      "model_module_version": "2.0.0",
      "model_name": "ButtonModel",
      "state": {
       "button_style": "primary",
       "description": "Clear",
       "layout": "IPY_MODEL_cddb72f1bd0341daa42c7596798da83e",
       "style": "IPY_MODEL_798bda18d8fd4be38859d90ea6a4059e",
       "tooltip": null
      }
     },
     "4a2f9234c3d74c3f95b1d98ce326501f": {
      "model_module": "@jupyter-widgets/controls",
      "model_module_version": "2.0.0",
      "model_name": "HTMLStyleModel",
      "state": {
       "description_width": "",
       "font_size": null,
       "text_color": null
      }
     },
     "4d69056237d4407899c10523c8e5ec03": {
      "model_module": "@jupyter-widgets/controls",
      "model_module_version": "2.0.0",
      "model_name": "HTMLStyleModel",
      "state": {
       "description_width": "",
       "font_size": null,
       "text_color": null
      }
     },
     "515878499e6d40cda0b34ab7bf86e8e0": {
      "model_module": "@jupyter-widgets/controls",
      "model_module_version": "2.0.0",
      "model_name": "HTMLModel",
      "state": {
       "layout": "IPY_MODEL_147fc6d3b1be44cca110f80a912cc2a9",
       "style": "IPY_MODEL_482ddb421e3349b58c38e50640c70ad2",
       "value": "<h5>Queue</h5>"
      }
     },
     "72f331bb95e44947a339ac023204c4f3": {
      "model_module": "@jupyter-widgets/controls",
      "model_module_version": "2.0.0",
      "model_name": "HTMLStyleModel",
      "state": {
       "description_width": "",
       "font_size": null,
       "text_color": null
      }
     },
     "798bda18d8fd4be38859d90ea6a4059e": {
      "model_module": "@jupyter-widgets/controls",
      "model_module_version": "2.0.0",
      "model_name": "ButtonStyleModel",
      "state": {
       "font_family": null,
       "font_size": null,
       "font_style": null,
       "font_variant": null,
       "font_weight": null,
       "text_color": null,
       "text_decoration": null
      }
     },
     "7e9803ef12f044c8a11ac08bdde0cbcd": {
      "model_module": "@jupyter-widgets/controls",
      "model_module_version": "2.0.0",
      "model_name": "HTMLStyleModel",
      "state": {
       "description_width": "",
       "font_size": null,
       "text_color": null
      }
     },
     "8c9ba4c9790d48b69505e94125740c77": {
      "model_module": "@jupyter-widgets/controls",
      "model_module_version": "2.0.0",
      "model_name": "GridBoxModel",
      "state": {
       "children": [
        "IPY_MODEL_4971dc4f50b84730868d7c075d4cfdf7"
       ],
       "layout": "IPY_MODEL_0303c6b5d63c4d97af97612c65fa0302"
      }
     },
     "9cb89c09908f4ab99da26cdfea3cc97b": {
      "model_module": "@jupyter-widgets/base",
      "model_module_version": "2.0.0",
      "model_name": "LayoutModel",
      "state": {}
     },
     "9dc6d1b6381b4de089531c6d5bfae249": {
      "model_module": "@jupyter-widgets/base",
      "model_module_version": "2.0.0",
      "model_name": "LayoutModel",
      "state": {
       "margin": "0px 0px 0px 37px",
       "width": "600px"
      }
     },
     "a6ddbc8e9f164d75a316e00acfef2590": {
      "model_module": "@jupyter-widgets/controls",
      "model_module_version": "2.0.0",
      "model_name": "HTMLModel",
      "state": {
       "layout": "IPY_MODEL_fca26cd60f054adc9035ca1930a117ff",
       "style": "IPY_MODEL_4a2f9234c3d74c3f95b1d98ce326501f",
       "value": "<h5>Backend</h5>"
      }
     },
     "bad717824901467e9b1c803b7ee7f6dc": {
      "model_module": "@jupyter-widgets/controls",
      "model_module_version": "2.0.0",
      "model_name": "HTMLModel",
      "state": {
       "layout": "IPY_MODEL_12464ec92bdd4eb4943622796b6a5653",
       "style": "IPY_MODEL_7e9803ef12f044c8a11ac08bdde0cbcd",
       "value": "<p style='font-family: IBM Plex Sans, Arial, Helvetica, sans-serif; font-size: 20px; font-weight: medium;'>Circuit Properties</p>"
      }
     },
     "cddb72f1bd0341daa42c7596798da83e": {
      "model_module": "@jupyter-widgets/base",
      "model_module_version": "2.0.0",
      "model_name": "LayoutModel",
      "state": {
       "grid_area": "right",
       "padding": "0px 0px 0px 0px",
       "width": "70px"
      }
     },
     "eb860fa7ed5848e2843d40a3e7b46141": {
      "model_module": "@jupyter-widgets/controls",
      "model_module_version": "2.0.0",
      "model_name": "HTMLModel",
      "state": {
       "layout": "IPY_MODEL_9cb89c09908f4ab99da26cdfea3cc97b",
       "style": "IPY_MODEL_72f331bb95e44947a339ac023204c4f3",
       "value": "<h5>Message</h5>"
      }
     },
     "fca26cd60f054adc9035ca1930a117ff": {
      "model_module": "@jupyter-widgets/base",
      "model_module_version": "2.0.0",
      "model_name": "LayoutModel",
      "state": {
       "width": "145px"
      }
     },
     "fca7e9b4bd6948cd8f74adcf78fa2759": {
      "model_module": "@jupyter-widgets/controls",
      "model_module_version": "2.0.0",
      "model_name": "HTMLModel",
      "state": {
       "layout": "IPY_MODEL_fdaff7e7b9ab40ceae11deb49371e13f",
       "style": "IPY_MODEL_083eb3c574744dae99cb8e4d485feb0b",
       "value": "<h5>Job ID</h5>"
      }
     },
     "fdaff7e7b9ab40ceae11deb49371e13f": {
      "model_module": "@jupyter-widgets/base",
      "model_module_version": "2.0.0",
      "model_name": "LayoutModel",
      "state": {
       "width": "190px"
      }
     }
    },
    "version_major": 2,
    "version_minor": 0
   }
  }
 },
 "nbformat": 4,
 "nbformat_minor": 5
}
