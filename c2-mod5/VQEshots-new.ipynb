{
 "cells": [
  {
   "cell_type": "code",
   "execution_count": 1,
   "id": "d4c3d5c6",
   "metadata": {},
   "outputs": [
    {
     "name": "stdout",
     "output_type": "stream",
     "text": [
      "pyscf==2.8.0\n",
      "qiskit==1.3.1\n",
      "qiskit-aer==0.16.0\n",
      "qiskit-algorithms==0.3.1\n",
      "qiskit-experiments==0.8.1\n",
      "qiskit-ibm-experiment==0.4.8\n",
      "qiskit-ibm-provider==0.11.0\n",
      "qiskit-ibm-runtime==0.34.0\n",
      "qiskit-machine-learning==0.8.2\n",
      "qiskit-nature==0.7.2\n"
     ]
    }
   ],
   "source": [
    "!pip freeze | grep -E \"qiskit|pyscf\""
   ]
  },
  {
   "cell_type": "markdown",
   "id": "da83a4c9-2b17-4bc9-9dd5-713feaa07cd5",
   "metadata": {},
   "source": [
    "# Effect of measurement *shots* on VQE simulation"
   ]
  },
  {
   "cell_type": "code",
   "execution_count": null,
   "id": "836ad857-60d7-49c9-896b-ae73e8320600",
   "metadata": {
    "tags": []
   },
   "outputs": [],
   "source": [
    "import warnings\n",
    "\n",
    "warnings.filterwarnings(\"ignore\")\n",
    "\n",
    "import numpy as np\n",
    "from qiskit_algorithms import VQE, NumPyMinimumEigensolver\n",
    "from qiskit_algorithms.optimizers import SLSQP, COBYLA, L_BFGS_B, SPSA\n",
    "from qiskit.circuit.library import TwoLocal\n",
    "from qiskit_nature.second_q.formats import MoleculeInfo\n",
    "from qiskit_nature.units import DistanceUnit as UnitsType\n",
    "from qiskit_nature.second_q.drivers import ElectronicStructureDriver, PySCFDriver\n",
    "from qiskit_nature.second_q.problems import ElectronicStructureProblem\n",
    "from qiskit_nature.second_q.mappers import (\n",
    "    ParityMapper,\n",
    "    JordanWignerMapper,\n",
    "    BravyiKitaevMapper,\n",
    ")\n",
    "from qiskit_nature.second_q.algorithms import GroundStateEigensolver\n",
    "from qiskit_nature.second_q.circuit.library import UCC, UCCSD, HartreeFock\n",
    "from qiskit_nature.second_q.transformers import ActiveSpaceTransformer\n",
    "from qiskit_aer import AerSimulator as Aer\n",
    "from qiskit_aer.primitives import Estimator"
   ]
  },
  {
   "cell_type": "code",
   "execution_count": 3,
   "id": "9c423352-072d-48f6-9c15-40c6f52edbed",
   "metadata": {
    "tags": []
   },
   "outputs": [],
   "source": [
    "molecule = MoleculeInfo(\n",
    "    symbols=[\"H\", \"H\"],\n",
    "    coords=np.array([[0.0, 0.0, 0.0], [0.0, 0.0, 0.735]]),\n",
    "    multiplicity=1,\n",
    "    charge=0,\n",
    "    units=UnitsType.ANGSTROM,\n",
    ")"
   ]
  },
  {
   "cell_type": "code",
   "execution_count": 4,
   "id": "0101299d-4668-4498-a285-8f85f048a472",
   "metadata": {
    "tags": []
   },
   "outputs": [],
   "source": [
    "driver = PySCFDriver.from_molecule(molecule, basis=\"sto-3g\")\n",
    "problem = driver.run()"
   ]
  },
  {
   "cell_type": "code",
   "execution_count": 5,
   "id": "0191d65a-530c-470e-b6fa-516fac7e2bf5",
   "metadata": {
    "tags": []
   },
   "outputs": [
    {
     "name": "stdout",
     "output_type": "stream",
     "text": [
      "number of alpha electrons:  1\n",
      "number of beta electrons:  1\n",
      "number of spin orbitals:  4\n",
      "nuclear repulsion energy:  0.7199689944489797\n"
     ]
    }
   ],
   "source": [
    "num_alpha_electrons = problem.num_alpha\n",
    "num_beta_electrons = problem.num_beta\n",
    "num_spin_orbitals = int(problem.num_spin_orbitals)\n",
    "\n",
    "nuclear_rep_energy = problem.nuclear_repulsion_energy\n",
    "print(\"number of alpha electrons: \", num_alpha_electrons)\n",
    "print(\"number of beta electrons: \", num_beta_electrons)\n",
    "print(\"number of spin orbitals: \", num_spin_orbitals)\n",
    "print(\"nuclear repulsion energy: \", nuclear_rep_energy)"
   ]
  },
  {
   "cell_type": "code",
   "execution_count": 6,
   "id": "5ae33984-8268-47db-861e-36ec605cd5e4",
   "metadata": {
    "tags": []
   },
   "outputs": [
    {
     "data": {
      "text/plain": [
       "(FermionicOp({'+_0 -_0': np.float64(-1.2563390730032498), '+_1 -_1': np.float64(-0.4718960072811422), '+_2 -_2': np.float64(-1.2563390730032498), '+_3 -_3': np.float64(-0.4718960072811422), '+_0 +_0 -_0 -_0': np.float64(0.33785507740175813), '+_0 +_1 -_1 -_0': np.float64(0.3322908651276482), '+_0 +_2 -_2 -_0': np.float64(0.33785507740175813), '+_0 +_3 -_3 -_0': np.float64(0.3322908651276482), '+_0 +_0 -_1 -_1': np.float64(0.09046559989211572), '+_0 +_1 -_0 -_1': np.float64(0.09046559989211572), '+_0 +_2 -_3 -_1': np.float64(0.09046559989211572), '+_0 +_3 -_2 -_1': np.float64(0.09046559989211572), '+_1 +_0 -_1 -_0': np.float64(0.09046559989211572), '+_1 +_1 -_0 -_0': np.float64(0.09046559989211572), '+_1 +_2 -_3 -_0': np.float64(0.09046559989211572), '+_1 +_3 -_2 -_0': np.float64(0.09046559989211572), '+_1 +_0 -_0 -_1': np.float64(0.3322908651276482), '+_1 +_1 -_1 -_1': np.float64(0.34928686136600884), '+_1 +_2 -_2 -_1': np.float64(0.3322908651276482), '+_1 +_3 -_3 -_1': np.float64(0.34928686136600884), '+_2 +_0 -_0 -_2': np.float64(0.33785507740175813), '+_2 +_1 -_1 -_2': np.float64(0.3322908651276482), '+_2 +_2 -_2 -_2': np.float64(0.33785507740175813), '+_2 +_3 -_3 -_2': np.float64(0.3322908651276482), '+_2 +_0 -_1 -_3': np.float64(0.09046559989211572), '+_2 +_1 -_0 -_3': np.float64(0.09046559989211572), '+_2 +_2 -_3 -_3': np.float64(0.09046559989211572), '+_2 +_3 -_2 -_3': np.float64(0.09046559989211572), '+_3 +_0 -_1 -_2': np.float64(0.09046559989211572), '+_3 +_1 -_0 -_2': np.float64(0.09046559989211572), '+_3 +_2 -_3 -_2': np.float64(0.09046559989211572), '+_3 +_3 -_2 -_2': np.float64(0.09046559989211572), '+_3 +_0 -_0 -_3': np.float64(0.3322908651276482), '+_3 +_1 -_1 -_3': np.float64(0.34928686136600884), '+_3 +_2 -_2 -_3': np.float64(0.3322908651276482), '+_3 +_3 -_3 -_3': np.float64(0.34928686136600884)}, num_spin_orbitals=4, ),\n",
       " {'AngularMomentum': FermionicOp({'+_0 +_2 -_0 -_2': (1+0j), '+_0 -_0': (0.5+0j), '+_0 +_3 -_1 -_2': (1+0j), '+_1 +_2 -_0 -_3': (1+0j), '+_1 +_3 -_1 -_3': (1+0j), '+_1 -_1': (0.5+0j), '+_3 -_3': (0.5+0j), '+_2 -_2': (0.5+0j), '+_0 -_0 +_0 -_0': 0.25, '+_2 -_2 +_0 -_0': -0.25, '+_3 -_3 +_2 -_2': 0.25, '+_1 -_1 +_2 -_2': -0.25, '+_3 -_3 +_1 -_1': -0.25, '+_2 -_2 +_1 -_1': -0.25, '+_1 -_1 +_3 -_3': -0.25, '+_2 -_2 +_3 -_3': 0.25, '+_1 -_1 +_1 -_1': 0.25, '+_2 -_2 +_2 -_2': 0.25, '+_3 -_3 +_0 -_0': -0.25, '+_3 -_3 +_3 -_3': 0.25, '+_1 -_1 +_0 -_0': 0.25, '+_0 -_0 +_2 -_2': -0.25, '+_0 -_0 +_1 -_1': 0.25, '+_0 -_0 +_3 -_3': -0.25}, num_spin_orbitals=4, ),\n",
       "  'Magnetization': FermionicOp({'+_0 -_0': 0.5, '+_1 -_1': 0.5, '+_2 -_2': -0.5, '+_3 -_3': -0.5}, num_spin_orbitals=4, ),\n",
       "  'ParticleNumber': FermionicOp({'+_0 -_0': 1.0, '+_1 -_1': 1.0, '+_2 -_2': 1.0, '+_3 -_3': 1.0}, num_spin_orbitals=4, ),\n",
       "  'XDipole': FermionicOp({}, num_spin_orbitals=4, ),\n",
       "  'YDipole': FermionicOp({}, num_spin_orbitals=4, ),\n",
       "  'ZDipole': FermionicOp({'+_0 -_0': np.float64(0.6944743507776598), '+_0 -_1': np.float64(-0.9278334704592321), '+_1 -_0': np.float64(-0.9278334704592321), '+_1 -_1': np.float64(0.6944743507776601), '+_2 -_2': np.float64(0.6944743507776598), '+_2 -_3': np.float64(-0.9278334704592321), '+_3 -_2': np.float64(-0.9278334704592321), '+_3 -_3': np.float64(0.6944743507776601)}, num_spin_orbitals=4, )})"
      ]
     },
     "execution_count": 6,
     "metadata": {},
     "output_type": "execute_result"
    }
   ],
   "source": [
    "# Define the active space around the Fermi level\n",
    "# (selected automatically around the HOMO and LUMO, ordered by energy)\n",
    "transformer = ActiveSpaceTransformer(\n",
    "    num_electrons=2,  # Number of electrons in our active space\n",
    "    num_spatial_orbitals=2,  # Number of orbitals in our active space\n",
    "    # active_orbitals=[18,19]\n",
    ")\n",
    "# Now you can get the reduced electronic structure problem\n",
    "problem_reduced = transformer.transform(problem)\n",
    "\n",
    "second_q_ops_reduced = problem_reduced.second_q_ops()\n",
    "second_q_ops_reduced"
   ]
  },
  {
   "cell_type": "code",
   "execution_count": 18,
   "id": "1623700a-2990-4bc5-971d-fc2b80afc070",
   "metadata": {
    "tags": []
   },
   "outputs": [
    {
     "name": "stdout",
     "output_type": "stream",
     "text": [
      "SparsePauliOp(['II', 'IZ', 'ZI', 'ZZ', 'XX'],\n",
      "              coeffs=[-1.05237325+0.j,  0.39793742+0.j, -0.39793742+0.j, -0.0112801 +0.j,\n",
      "  0.1809312 +0.j])\n"
     ]
    }
   ],
   "source": [
    "# no need for two_qubit_reduction=True, it's automatic\n",
    "parity_mapper = ParityMapper(num_particles=problem_reduced.num_particles)\n",
    "qubit_op_parity = parity_mapper.map(second_q_ops_reduced[0])\n",
    "\n",
    "print(qubit_op_parity)"
   ]
  },
  {
   "cell_type": "markdown",
   "id": "5f221c95-938d-4662-82d4-04f7553b5ee2",
   "metadata": {},
   "source": [
    "### Exact Solution"
   ]
  },
  {
   "cell_type": "code",
   "execution_count": 19,
   "id": "8593a64e-2a2f-4972-a60c-15a081f6cd70",
   "metadata": {
    "tags": []
   },
   "outputs": [
    {
     "name": "stdout",
     "output_type": "stream",
     "text": [
      "Reference energy :  -1.1373060357533968\n"
     ]
    }
   ],
   "source": [
    "numpy_solver = NumPyMinimumEigensolver()\n",
    "\n",
    "solver = GroundStateEigensolver(parity_mapper, numpy_solver)\n",
    "real_solution_t = solver.solve(problem_reduced).total_energies[0]\n",
    "# real_solution_t = solver.solve(problem_reduced)\n",
    "print(\"Reference energy : \", real_solution_t)"
   ]
  },
  {
   "cell_type": "code",
   "execution_count": 20,
   "id": "7b9cccdf-5a58-4e7e-8a1b-f5ca4b0be5fe",
   "metadata": {
    "tags": []
   },
   "outputs": [
    {
     "name": "stdout",
     "output_type": "stream",
     "text": [
      "Reference energy: -1.85728\n"
     ]
    }
   ],
   "source": [
    "npme = NumPyMinimumEigensolver()\n",
    "result = npme.compute_minimum_eigenvalue(operator=qubit_op_parity)\n",
    "# print(result)\n",
    "ref_value = result.eigenvalue.real\n",
    "print(f\"Reference energy: {ref_value:.5f}\")"
   ]
  },
  {
   "cell_type": "markdown",
   "id": "9e577e44-2c94-44a0-9991-dc366e5c2bbe",
   "metadata": {},
   "source": [
    "### UCCSD Ansatz"
   ]
  },
  {
   "cell_type": "code",
   "execution_count": 21,
   "id": "4375e355-64b6-477c-b841-d96bc29478ab",
   "metadata": {
    "tags": []
   },
   "outputs": [
    {
     "name": "stdout",
     "output_type": "stream",
     "text": [
      "Number of parameters in UCC ansatz: 3\n",
      "Depth of UCC ansatz: 4\n"
     ]
    },
    {
     "data": {
      "image/png": "[encoded data removed]",
      "text/plain": [
       "<Figure size 1792.29x200.667 with 1 Axes>"
      ]
     },
     "execution_count": 21,
     "metadata": {},
     "output_type": "execute_result"
    }
   ],
   "source": [
    "init_state = HartreeFock(\n",
    "    num_spatial_orbitals=problem_reduced.num_spatial_orbitals,\n",
    "    num_particles=problem_reduced.num_particles,\n",
    "    qubit_mapper=parity_mapper,\n",
    ")\n",
    "ansatz_ucc = UCC(\n",
    "    qubit_mapper=parity_mapper,\n",
    "    num_particles=problem_reduced.num_particles,\n",
    "    num_spatial_orbitals=problem_reduced.num_spatial_orbitals,\n",
    "    excitations=\"sd\",\n",
    "    initial_state=init_state,\n",
    ")\n",
    "print(\"Number of parameters in UCC ansatz:\", len(ansatz_ucc.parameters))\n",
    "print(\"Depth of UCC ansatz:\", ansatz_ucc.decompose().depth())\n",
    "ansatz_ucc.decompose(reps=3).draw(\"mpl\")"
   ]
  },
  {
   "cell_type": "markdown",
   "id": "19010938-9cf4-44ef-8192-49f6e0e953c3",
   "metadata": {},
   "source": [
    "### Running VQE simulation with 4000 shots"
   ]
  },
  {
   "cell_type": "code",
   "execution_count": 22,
   "id": "746366a3-f7fa-4b59-b1eb-5bd15732d699",
   "metadata": {
    "tags": []
   },
   "outputs": [
    {
     "name": "stdout",
     "output_type": "stream",
     "text": [
      "VQE on Aer qasm simulator (no noise): -1.86001\n",
      "Delta from reference energy value is -0.00274\n"
     ]
    }
   ],
   "source": [
    "shots, iterations = 4000, 125\n",
    "\n",
    "backend = Aer()\n",
    "estimator = Estimator()\n",
    "\n",
    "counts = []\n",
    "values = []\n",
    "\n",
    "\n",
    "def store_intermediate_result(eval_count, parameters, mean, std):\n",
    "    counts.append(eval_count)\n",
    "    values.append(mean)\n",
    "\n",
    "\n",
    "ansatz = ansatz_ucc\n",
    "spsa = SPSA(maxiter=iterations)\n",
    "vqe = VQE(estimator, ansatz, optimizer=spsa, callback=store_intermediate_result)\n",
    "result = vqe.compute_minimum_eigenvalue(operator=qubit_op_parity)\n",
    "dev = result.eigenvalue.real - ref_value\n",
    "print(f\"VQE on Aer qasm simulator (no noise): {result.eigenvalue.real:.5f}\")\n",
    "print(\n",
    "    f\"Delta from reference energy value is {(result.eigenvalue.real - ref_value):.5f}\"\n",
    ")"
   ]
  },
  {
   "cell_type": "markdown",
   "id": "e089e7c1-4268-487c-b6aa-7abd7dc427bb",
   "metadata": {
    "tags": []
   },
   "source": [
    "### Running VQE simulation with 10000 shots"
   ]
  },
  {
   "cell_type": "code",
   "execution_count": null,
   "id": "67d4966d-edb2-41fc-9465-2f6b85311c46",
   "metadata": {
    "tags": []
   },
   "outputs": [
    {
     "name": "stdout",
     "output_type": "stream",
     "text": [
      "VQE on Aer qasm simulator (no noise): -1.86513\n",
      "Delta from reference energy value is -0.00785\n"
     ]
    }
   ],
   "source": [
    "shots, iterations = 10_000, 125\n",
    "\n",
    "backend = Aer()\n",
    "estimator = Estimator()\n",
    "\n",
    "counts = []\n",
    "values = []\n",
    "\n",
    "\n",
    "def store_intermediate_result(eval_count, parameters, mean, std):\n",
    "    counts.append(eval_count)\n",
    "    values.append(mean)\n",
    "\n",
    "\n",
    "ansatz = ansatz_ucc\n",
    "spsa = SPSA(maxiter=iterations)\n",
    "vqe = VQE(estimator, ansatz, optimizer=spsa, callback=store_intermediate_result)\n",
    "result = vqe.compute_minimum_eigenvalue(operator=qubit_op_parity)\n",
    "dev1 = np.abs(result.eigenvalue.real - ref_value)\n",
    "print(f\"VQE on Aer qasm simulator (no noise): {result.eigenvalue.real:.5f}\")\n",
    "print(\n",
    "    f\"Delta from reference energy value is {(result.eigenvalue.real - ref_value):.5f}\"\n",
    ")"
   ]
  },
  {
   "cell_type": "markdown",
   "id": "bb69cb3d-a64f-4cb2-bede-0082830fc191",
   "metadata": {},
   "source": [
    "### Running VQE simulation with 100000 shots"
   ]
  },
  {
   "cell_type": "code",
   "execution_count": null,
   "id": "93901d5f-30c2-4615-9323-44ffece27f14",
   "metadata": {
    "tags": []
   },
   "outputs": [
    {
     "name": "stdout",
     "output_type": "stream",
     "text": [
      "VQE on Aer qasm simulator (no noise): -1.85012\n",
      "Delta from reference energy value is 0.00715\n"
     ]
    }
   ],
   "source": [
    "shots, iterations = 100_000, 125\n",
    "backend = Aer()\n",
    "estimator = Estimator()\n",
    "\n",
    "counts = []\n",
    "values = []\n",
    "\n",
    "\n",
    "def store_intermediate_result(eval_count, parameters, mean, std):\n",
    "    counts.append(eval_count)\n",
    "    values.append(mean)\n",
    "\n",
    "\n",
    "ansatz = ansatz_ucc\n",
    "spsa = SPSA(maxiter=iterations)\n",
    "vqe = VQE(estimator, ansatz, optimizer=spsa, callback=store_intermediate_result)\n",
    "result = vqe.compute_minimum_eigenvalue(operator=qubit_op_parity)\n",
    "dev2 = result.eigenvalue.real - ref_value\n",
    "print(f\"VQE on Aer qasm simulator (no noise): {result.eigenvalue.real:.5f}\")\n",
    "print(\n",
    "    f\"Delta from reference energy value is {(result.eigenvalue.real - ref_value):.5f}\"\n",
    ")"
   ]
  },
  {
   "cell_type": "markdown",
   "id": "79110c95-9279-4154-b405-1cc552967dc3",
   "metadata": {},
   "source": [
    "### Running VQE simulation with 500000 shots"
   ]
  },
  {
   "cell_type": "code",
   "execution_count": 25,
   "id": "5548d963-4774-4be7-9545-258a5df4711b",
   "metadata": {
    "tags": []
   },
   "outputs": [
    {
     "name": "stdout",
     "output_type": "stream",
     "text": [
      "VQE on Aer qasm simulator (no noise): -1.85587\n",
      "Delta from reference energy value is 0.00141\n"
     ]
    }
   ],
   "source": [
    "shots, iterations = 500_000, 125\n",
    "\n",
    "backend = Aer()\n",
    "estimator = Estimator()\n",
    "\n",
    "counts = []\n",
    "values = []\n",
    "\n",
    "\n",
    "def store_intermediate_result(eval_count, parameters, mean, std):\n",
    "    counts.append(eval_count)\n",
    "    values.append(mean)\n",
    "\n",
    "\n",
    "ansatz = ansatz_ucc\n",
    "# ansatz = TwoLocal(rotation_blocks='ry', entanglement_blocks='cz')\n",
    "spsa = SPSA(maxiter=iterations)\n",
    "vqe = VQE(estimator, ansatz, optimizer=spsa, callback=store_intermediate_result)\n",
    "result = vqe.compute_minimum_eigenvalue(operator=qubit_op_parity)\n",
    "dev3 = result.eigenvalue.real - ref_value\n",
    "print(f\"VQE on Aer qasm simulator (no noise): {result.eigenvalue.real:.5f}\")\n",
    "print(\n",
    "    f\"Delta from reference energy value is {(result.eigenvalue.real - ref_value):.5f}\"\n",
    ")"
   ]
  },
  {
   "cell_type": "code",
   "execution_count": 26,
   "id": "b47c0400-9709-4532-9ca3-26afa9dc0cb4",
   "metadata": {
    "tags": []
   },
   "outputs": [
    {
     "data": {
      "text/plain": [
       "Text(0.5, 1.0, 'Deviation from exact solution')"
      ]
     },
     "execution_count": 26,
     "metadata": {},
     "output_type": "execute_result"
    },
    {
     "data": {
      "image/png": "[encoded data removed]",
      "text/plain": [
       "<Figure size 640x480 with 1 Axes>"
      ]
     },
     "metadata": {},
     "output_type": "display_data"
    }
   ],
   "source": [
    "import matplotlib.pyplot as plt\n",
    "\n",
    "deviation = [abs(dev), abs(dev1), dev2, dev3]\n",
    "x_labels = [\"4k\", \"10k\", \"100k\", \"500k\"]\n",
    "\n",
    "plt.bar(x_labels, deviation, color=\"blue\")\n",
    "plt.xlabel(\"No. of Shots\")\n",
    "plt.ylabel(\"Energy (hartree)\")\n",
    "plt.title(\"Deviation from exact solution\")"
   ]
  }
 ],
 "metadata": {
  "kernelspec": {
   "display_name": "shotty2",
   "language": "python",
   "name": "python3"
  },
  "language_info": {
   "codemirror_mode": {
    "name": "ipython",
    "version": 3
   },
   "file_extension": ".py",
   "mimetype": "text/x-python",
   "name": "python",
   "nbconvert_exporter": "python",
   "pygments_lexer": "ipython3",
   "version": "3.12.9"
  },
  "widgets": {
   "application/vnd.jupyter.widget-state+json": {
    "state": {
     "013d7a2ec77b464ab80d9c0e9b0d5bf0": {
      "model_module": "@jupyter-widgets/controls",
      "model_module_version": "2.0.0",
      "model_name": "HTMLModel",
      "state": {
       "layout": "IPY_MODEL_24eb1937de4844da9f3abbbc013dd5ff",
       "style": "IPY_MODEL_4d69056237d4407899c10523c8e5ec03",
       "value": "<h5>Status</h5>"
      }
     },
     "0303c6b5d63c4d97af97612c65fa0302": {
      "model_module": "@jupyter-widgets/base",
      "model_module_version": "2.0.0",
      "model_name": "LayoutModel",
      "state": {
       "grid_template_areas": "\n                                       \". . . . right \"\n                                        ",
       "grid_template_columns": "20% 20% 20% 20% 20%",
       "width": "100%"
      }
     },
     "083eb3c574744dae99cb8e4d485feb0b": {
      "model_module": "@jupyter-widgets/controls",
      "model_module_version": "2.0.0",
      "model_name": "HTMLStyleModel",
      "state": {
       "description_width": "",
       "font_size": null,
       "text_color": null
      }
     },
     "12464ec92bdd4eb4943622796b6a5653": {
      "model_module": "@jupyter-widgets/base",
      "model_module_version": "2.0.0",
      "model_name": "LayoutModel",
      "state": {
       "margin": "0px 0px 10px 0px"
      }
     },
     "147fc6d3b1be44cca110f80a912cc2a9": {
      "model_module": "@jupyter-widgets/base",
      "model_module_version": "2.0.0",
      "model_name": "LayoutModel",
      "state": {
       "width": "70px"
      }
     },
     "2415749748934e6b98357630602f77eb": {
      "model_module": "@jupyter-widgets/controls",
      "model_module_version": "2.0.0",
      "model_name": "HBoxModel",
      "state": {
       "children": [
        "IPY_MODEL_fca7e9b4bd6948cd8f74adcf78fa2759",
        "IPY_MODEL_a6ddbc8e9f164d75a316e00acfef2590",
        "IPY_MODEL_013d7a2ec77b464ab80d9c0e9b0d5bf0",
        "IPY_MODEL_515878499e6d40cda0b34ab7bf86e8e0",
        "IPY_MODEL_eb860fa7ed5848e2843d40a3e7b46141"
       ],
       "layout": "IPY_MODEL_9dc6d1b6381b4de089531c6d5bfae249"
      }
     },
     "24eb1937de4844da9f3abbbc013dd5ff": {
      "model_module": "@jupyter-widgets/base",
      "model_module_version": "2.0.0",
      "model_name": "LayoutModel",
      "state": {
       "width": "95px"
      }
     },
     "482ddb421e3349b58c38e50640c70ad2": {
      "model_module": "@jupyter-widgets/controls",
      "model_module_version": "2.0.0",
      "model_name": "HTMLStyleModel",
      "state": {
       "description_width": "",
       "font_size": null,
       "text_color": null
      }
     },
     "4971dc4f50b84730868d7c075d4cfdf7": {
      "model_module": "@jupyter-widgets/controls",
      "model_module_version": "2.0.0",
      "model_name": "ButtonModel",
      "state": {
       "button_style": "primary",
       "description": "Clear",
       "layout": "IPY_MODEL_cddb72f1bd0341daa42c7596798da83e",
       "style": "IPY_MODEL_798bda18d8fd4be38859d90ea6a4059e",
       "tooltip": null
      }
     },
     "4a2f9234c3d74c3f95b1d98ce326501f": {
      "model_module": "@jupyter-widgets/controls",
      "model_module_version": "2.0.0",
      "model_name": "HTMLStyleModel",
      "state": {
       "description_width": "",
       "font_size": null,
       "text_color": null
      }
     },
     "4d69056237d4407899c10523c8e5ec03": {
      "model_module": "@jupyter-widgets/controls",
      "model_module_version": "2.0.0",
      "model_name": "HTMLStyleModel",
      "state": {
       "description_width": "",
       "font_size": null,
       "text_color": null
      }
     },
     "515878499e6d40cda0b34ab7bf86e8e0": {
      "model_module": "@jupyter-widgets/controls",
      "model_module_version": "2.0.0",
      "model_name": "HTMLModel",
      "state": {
       "layout": "IPY_MODEL_147fc6d3b1be44cca110f80a912cc2a9",
       "style": "IPY_MODEL_482ddb421e3349b58c38e50640c70ad2",
       "value": "<h5>Queue</h5>"
      }
     },
     "72f331bb95e44947a339ac023204c4f3": {
      "model_module": "@jupyter-widgets/controls",
      "model_module_version": "2.0.0",
      "model_name": "HTMLStyleModel",
      "state": {
       "description_width": "",
       "font_size": null,
       "text_color": null
      }
     },
     "798bda18d8fd4be38859d90ea6a4059e": {
      "model_module": "@jupyter-widgets/controls",
      "model_module_version": "2.0.0",
      "model_name": "ButtonStyleModel",
      "state": {
       "font_family": null,
       "font_size": null,
       "font_style": null,
       "font_variant": null,
       "font_weight": null,
       "text_color": null,
       "text_decoration": null
      }
     },
     "7e9803ef12f044c8a11ac08bdde0cbcd": {
      "model_module": "@jupyter-widgets/controls",
      "model_module_version": "2.0.0",
      "model_name": "HTMLStyleModel",
      "state": {
       "description_width": "",
       "font_size": null,
       "text_color": null
      }
     },
     "8c9ba4c9790d48b69505e94125740c77": {
      "model_module": "@jupyter-widgets/controls",
      "model_module_version": "2.0.0",
      "model_name": "GridBoxModel",
      "state": {
       "children": [
        "IPY_MODEL_4971dc4f50b84730868d7c075d4cfdf7"
       ],
       "layout": "IPY_MODEL_0303c6b5d63c4d97af97612c65fa0302"
      }
     },
     "9cb89c09908f4ab99da26cdfea3cc97b": {
      "model_module": "@jupyter-widgets/base",
      "model_module_version": "2.0.0",
      "model_name": "LayoutModel",
      "state": {}
     },
     "9dc6d1b6381b4de089531c6d5bfae249": {
      "model_module": "@jupyter-widgets/base",
      "model_module_version": "2.0.0",
      "model_name": "LayoutModel",
      "state": {
       "margin": "0px 0px 0px 37px",
       "width": "600px"
      }
     },
     "a6ddbc8e9f164d75a316e00acfef2590": {
      "model_module": "@jupyter-widgets/controls",
      "model_module_version": "2.0.0",
      "model_name": "HTMLModel",
      "state": {
       "layout": "IPY_MODEL_fca26cd60f054adc9035ca1930a117ff",
       "style": "IPY_MODEL_4a2f9234c3d74c3f95b1d98ce326501f",
       "value": "<h5>Backend</h5>"
      }
     },
     "bad717824901467e9b1c803b7ee7f6dc": {
      "model_module": "@jupyter-widgets/controls",
      "model_module_version": "2.0.0",
      "model_name": "HTMLModel",
      "state": {
       "layout": "IPY_MODEL_12464ec92bdd4eb4943622796b6a5653",
       "style": "IPY_MODEL_7e9803ef12f044c8a11ac08bdde0cbcd",
       "value": "<p style='font-family: IBM Plex Sans, Arial, Helvetica, sans-serif; font-size: 20px; font-weight: medium;'>Circuit Properties</p>"
      }
     },
     "cddb72f1bd0341daa42c7596798da83e": {
      "model_module": "@jupyter-widgets/base",
      "model_module_version": "2.0.0",
      "model_name": "LayoutModel",
      "state": {
       "grid_area": "right",
       "padding": "0px 0px 0px 0px",
       "width": "70px"
      }
     },
     "eb860fa7ed5848e2843d40a3e7b46141": {
      "model_module": "@jupyter-widgets/controls",
      "model_module_version": "2.0.0",
      "model_name": "HTMLModel",
      "state": {
       "layout": "IPY_MODEL_9cb89c09908f4ab99da26cdfea3cc97b",
       "style": "IPY_MODEL_72f331bb95e44947a339ac023204c4f3",
       "value": "<h5>Message</h5>"
      }
     },
     "fca26cd60f054adc9035ca1930a117ff": {
      "model_module": "@jupyter-widgets/base",
      "model_module_version": "2.0.0",
      "model_name": "LayoutModel",
      "state": {
       "width": "145px"
      }
     },
     "fca7e9b4bd6948cd8f74adcf78fa2759": {
      "model_module": "@jupyter-widgets/controls",
      "model_module_version": "2.0.0",
      "model_name": "HTMLModel",
      "state": {
       "layout": "IPY_MODEL_fdaff7e7b9ab40ceae11deb49371e13f",
       "style": "IPY_MODEL_083eb3c574744dae99cb8e4d485feb0b",
       "value": "<h5>Job ID</h5>"
      }
     },
     "fdaff7e7b9ab40ceae11deb49371e13f": {
      "model_module": "@jupyter-widgets/base",
      "model_module_version": "2.0.0",
      "model_name": "LayoutModel",
      "state": {
       "width": "190px"
      }
     }
    },
    "version_major": 2,
    "version_minor": 0
   }
  }
 },
 "nbformat": 4,
 "nbformat_minor": 5
}
