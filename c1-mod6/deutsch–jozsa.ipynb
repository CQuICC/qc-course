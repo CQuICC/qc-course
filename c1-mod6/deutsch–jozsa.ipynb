{
 "cells": [
  {
   "cell_type": "code",
   "execution_count": 1,
   "metadata": {},
   "outputs": [],
   "source": [
    "from qiskit.visualization import plot_histogram\n",
    "from qiskit_aer import AerSimulator\n",
    "from qiskit import QuantumCircuit"
   ]
  },
  {
   "cell_type": "code",
   "execution_count": 2,
   "metadata": {},
   "outputs": [],
   "source": [
    "n = 4"
   ]
  },
  {
   "cell_type": "code",
   "execution_count": 3,
   "metadata": {},
   "outputs": [],
   "source": [
    "def oracle(n):\n",
    "\n",
    "    oracle = QuantumCircuit(n, name=\"oracle\")\n",
    "    oracle.ccx(1, 2, 3)\n",
    "    oracle.cx(0, 3)\n",
    "    oracle.barrier()\n",
    "\n",
    "    return oracle"
   ]
  },
  {
   "cell_type": "code",
   "execution_count": 4,
   "metadata": {},
   "outputs": [
    {
     "data": {
      "text/plain": [
       "CircuitInstruction(operation=Instruction(name='barrier', num_qubits=4, num_clbits=0, params=[]), qubits=(Qubit(QuantumRegister(4, 'q'), 0), Qubit(QuantumRegister(4, 'q'), 1), Qubit(QuantumRegister(4, 'q'), 2), Qubit(QuantumRegister(4, 'q'), 3)), clbits=())"
      ]
     },
     "execution_count": 4,
     "metadata": {},
     "output_type": "execute_result"
    }
   ],
   "source": [
    "qc = QuantumCircuit(n)\n",
    "qc.x(n - 1)\n",
    "qc.h(range(n))\n",
    "qc.barrier()"
   ]
  },
  {
   "cell_type": "code",
   "execution_count": 5,
   "metadata": {},
   "outputs": [
    {
     "data": {
      "text/html": [
       "<pre style=\"word-wrap: normal;white-space: pre;background: #fff0;line-height: 1.1;font-family: &quot;Courier New&quot;,Courier,monospace\">        ┌───┐      ░ ┌─────────┐ ░ ┌───┐ ░ ┌─┐         \n",
       "   q_0: ┤ H ├──────░─┤0        ├─░─┤ H ├─░─┤M├─────────\n",
       "        ├───┤      ░ │         │ ░ ├───┤ ░ └╥┘┌─┐      \n",
       "   q_1: ┤ H ├──────░─┤1        ├─░─┤ H ├─░──╫─┤M├──────\n",
       "        ├───┤      ░ │  oracle │ ░ ├───┤ ░  ║ └╥┘┌─┐   \n",
       "   q_2: ┤ H ├──────░─┤2        ├─░─┤ H ├─░──╫──╫─┤M├───\n",
       "        ├───┤┌───┐ ░ │         │ ░ └───┘ ░  ║  ║ └╥┘┌─┐\n",
       "   q_3: ┤ X ├┤ H ├─░─┤3        ├─░───────░──╫──╫──╫─┤M├\n",
       "        └───┘└───┘ ░ └─────────┘ ░       ░  ║  ║  ║ └╥┘\n",
       "meas: 4/════════════════════════════════════╩══╩══╩══╩═\n",
       "                                            0  1  2  3 </pre>"
      ],
      "text/plain": [
       "        ┌───┐      ░ ┌─────────┐ ░ ┌───┐ ░ ┌─┐         \n",
       "   q_0: ┤ H ├──────░─┤0        ├─░─┤ H ├─░─┤M├─────────\n",
       "        ├───┤      ░ │         │ ░ ├───┤ ░ └╥┘┌─┐      \n",
       "   q_1: ┤ H ├──────░─┤1        ├─░─┤ H ├─░──╫─┤M├──────\n",
       "        ├───┤      ░ │  oracle │ ░ ├───┤ ░  ║ └╥┘┌─┐   \n",
       "   q_2: ┤ H ├──────░─┤2        ├─░─┤ H ├─░──╫──╫─┤M├───\n",
       "        ├───┤┌───┐ ░ │         │ ░ └───┘ ░  ║  ║ └╥┘┌─┐\n",
       "   q_3: ┤ X ├┤ H ├─░─┤3        ├─░───────░──╫──╫──╫─┤M├\n",
       "        └───┘└───┘ ░ └─────────┘ ░       ░  ║  ║  ║ └╥┘\n",
       "meas: 4/════════════════════════════════════╩══╩══╩══╩═\n",
       "                                            0  1  2  3 "
      ]
     },
     "execution_count": 5,
     "metadata": {},
     "output_type": "execute_result"
    }
   ],
   "source": [
    "qc.append(oracle(4), range(4))\n",
    "qc.barrier()\n",
    "\n",
    "qc.h(range(n - 1))\n",
    "qc.measure_all()\n",
    "qc.draw()"
   ]
  },
  {
   "cell_type": "code",
   "execution_count": 6,
   "metadata": {},
   "outputs": [],
   "source": [
    "# before we run it we have to decompose the circuit\n",
    "# otherwise it'll try to apply the 'oracle' gate\n",
    "qc = qc.decompose()"
   ]
  },
  {
   "cell_type": "code",
   "execution_count": 7,
   "metadata": {},
   "outputs": [
    {
     "name": "stdout",
     "output_type": "stream",
     "text": [
      "{'1011': 124, '1001': 140, '0101': 121, '0011': 116, '0111': 137, '1111': 119, '0001': 141, '1101': 126}\n"
     ]
    }
   ],
   "source": [
    "sim = AerSimulator()\n",
    "\n",
    "result = sim.run([qc], shots=1024).result()\n",
    "measurements = result.get_counts()\n",
    "print(measurements)"
   ]
  },
  {
   "cell_type": "code",
   "execution_count": 8,
   "metadata": {},
   "outputs": [
    {
     "data": {
      "image/png": "[encoded data removed]",
      "text/plain": [
       "<Figure size 640x480 with 1 Axes>"
      ]
     },
     "execution_count": 8,
     "metadata": {},
     "output_type": "execute_result"
    }
   ],
   "source": [
    "plot_histogram(measurements)"
   ]
  },
  {
   "cell_type": "markdown",
   "metadata": {},
   "source": [
    "Since the probability of getting all 0s is 0, we can see the function is balanced"
   ]
  }
 ],
 "metadata": {
  "kernelspec": {
   "display_name": "shotty",
   "language": "python",
   "name": "python3"
  },
  "language_info": {
   "codemirror_mode": {
    "name": "ipython",
    "version": 3
   },
   "file_extension": ".py",
   "mimetype": "text/x-python",
   "name": "python",
   "nbconvert_exporter": "python",
   "pygments_lexer": "ipython3",
   "version": "3.10.14"
  }
 },
 "nbformat": 4,
 "nbformat_minor": 2
}
