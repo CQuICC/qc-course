{
 "cells": [
  {
   "cell_type": "markdown",
   "metadata": {},
   "source": [
    "## Unitarity of QFT\n",
    "\n",
    "You are encouraged to check that a QFT is equivalent to the following unitary matrix:\n",
    "\n",
    "$$\n",
    "F_{N}={\\frac {1}{\\sqrt {N}}} {\\begin{bmatrix}\n",
    " 1 &1      &1          &1          &\\cdots &1\\\\\n",
    " 1 &\\omega &\\omega ^{2}&\\omega ^{3}&\\cdots &\\omega ^{N-1}\\\\\n",
    " 1 &\\omega ^{2}&\\omega ^{4}&\\omega ^{6}&\\cdots &\\omega ^{2(N-1)}\\\\\n",
    " 1 &\\omega ^{3}&\\omega ^{6}&\\omega ^{9}&\\cdots &\\omega ^{3(N-1)}\\\\\n",
    " \\vdots &\\vdots &\\vdots &\\vdots &&\\vdots \\\\\n",
    " 1 &\\omega ^{N-1}&\\omega ^{2(N-1)}&\\omega ^{3(N-1)}&\\cdots &\\omega ^{(N-1)(N-1)}\n",
    " \\end{bmatrix}}\n",
    "$$\n",
    "\n",
    "And is therefore invertible. This is a very important property of QFT, as it allows us to perform the inverse QFT, which is necessary for many quantum algorithms."
   ]
  },
  {
   "cell_type": "markdown",
   "metadata": {
    "tags": [
     "remove_cell"
    ]
   },
   "source": [
    "# Quantum Phase Estimation"
   ]
  },
  {
   "cell_type": "markdown",
   "metadata": {},
   "source": [
    "Quantum phase estimation is one of the most important subroutines in quantum computation. It serves as a central building block for many quantum algorithms. The objective of the algorithm is the following:\n",
    "\n",
    "Given a unitary operator $U$, the algorithm estimates $\\theta$ in $U\\vert\\psi \\rangle =e^{\\boldsymbol{2\\pi i} \\theta }|\\psi \\rangle$. Here $|\\psi\\rangle$ is an eigenvector and $e^{\\boldsymbol{2\\pi i}\\theta}$ is the corresponding eigenvalue. Since $U$ is unitary, all of its eigenvalues have a norm of 1."
   ]
  },
  {
   "cell_type": "markdown",
   "metadata": {},
   "source": [
    "## 1. Overview <a id='overview'></a>"
   ]
  },
  {
   "cell_type": "markdown",
   "metadata": {},
   "source": [
    "The general quantum circuit for phase estimation is shown below. The top register contains $t$ 'counting' qubits, and the bottom contains qubits in the state $|\\psi\\rangle$:\n"
   ]
  },
  {
   "cell_type": "markdown",
   "metadata": {},
   "source": [
    "### 1.1 Intuition <a id='intuition'></a>\n",
    "The quantum phase estimation algorithm uses phase kickback to write the phase of $U$ (in the Fourier basis) to the $t$ qubits in the counting register. We then use the inverse QFT to translate this from the Fourier basis into the computational basis, which we can measure.\n",
    "\n",
    "We remember (from the QFT chapter) that in the Fourier basis the topmost qubit completes one full rotation when counting between $0$ and $2^t$. To count to a number, $x$ between $0$ and $2^t$, we rotate this qubit by $\\tfrac{x}{2^t}$ around the z-axis. For the next qubit we rotate by $\\tfrac{2x}{2^t}$, then $\\tfrac{4x}{2^t}$ for the third qubit.\n",
    "\n",
    "![image2](images/qpe_intuition.jpg)\n",
    "\n",
    "When we use a qubit to control the $U$-gate, the qubit will turn (due to kickback) proportionally to the phase $e^{2i\\pi\\theta}$. We can use successive $CU$-gates to repeat this rotation an appropriate number of times until we have encoded the phase theta as a number between $0$ and $2^t$ in the Fourier basis. \n",
    "\n",
    "Then we simply use $QFT^\\dagger$ to convert this into the computational basis.\n",
    "\n"
   ]
  },
  {
   "cell_type": "markdown",
   "metadata": {},
   "source": [
    "### 1.2 Mathematical Foundation <a id='maths'></a>\n",
    "\n",
    "As mentioned above, this circuit estimates the phase of a unitary operator $U$. It estimates $\\theta$ in $U\\vert\\psi \\rangle =e^{\\boldsymbol{2\\pi i} \\theta }|\\psi \\rangle$, where $|\\psi\\rangle$ is an eigenvector and $e^{\\boldsymbol{2\\pi i}\\theta}$ is the corresponding eigenvalue. The circuit operates in the following steps:\n",
    "\n",
    "i. **Setup**: $\\vert\\psi\\rangle$ is in one set of qubit registers. An additional set of $n$ qubits form the counting register on which we will store the value $2^n\\theta$: \n",
    "\n",
    "\n",
    "\n",
    "$$ |\\psi_0\\rangle = \\lvert 0 \\rangle^{\\otimes n} \\lvert \\psi \\rangle$$\n",
    "\n",
    " \n",
    "\n",
    "ii. **Superposition**: Apply a $n$-bit Hadamard gate operation $H^{\\otimes n}$ on the counting register: \n",
    "\n",
    "\n",
    "\n",
    "$$ |\\psi_1\\rangle = {\\frac {1}{2^{\\frac {n}{2}}}}\\left(|0\\rangle +|1\\rangle \\right)^{\\otimes n} \\lvert \\psi \\rangle$$\n",
    "\n",
    "\n",
    "\n",
    "iii. **Controlled Unitary Operations**: We need to introduce the controlled unitary $CU$ that applies the unitary operator $U$ on the target register only if its corresponding control bit is $|1\\rangle$. Since $U$ is a unitary operator with eigenvector $|\\psi\\rangle$ such that $U|\\psi \\rangle =e^{\\boldsymbol{2\\pi i} \\theta }|\\psi \\rangle$, this means: \n",
    "\n",
    "\n",
    "\n",
    "$$U^{2^{j}}|\\psi \\rangle =U^{2^{j}-1}U|\\psi \\rangle =U^{2^{j}-1}e^{2\\pi i\\theta }|\\psi \\rangle =\\cdots =e^{2\\pi i2^{j}\\theta }|\\psi \\rangle$$\n",
    "\n",
    "\n",
    "\n",
    "Applying all the $n$ controlled operations $CU^{2^j}$ with $0\\leq j\\leq n-1$, and using the relation $|0\\rangle \\otimes |\\psi \\rangle +|1\\rangle \\otimes e^{2\\pi i\\theta }|\\psi \\rangle =\\left(|0\\rangle +e^{2\\pi i\\theta }|1\\rangle \\right)\\otimes |\\psi \\rangle$:\n",
    "\n",
    "\\begin{aligned}\n",
    "|\\psi_{2}\\rangle & =\\frac {1}{2^{\\frac {n}{2}}} \\left(|0\\rangle+{e^{\\boldsymbol{2\\pi i} \\theta 2^{n-1}}}|1\\rangle \\right) \\otimes \\cdots \\otimes \\left(|0\\rangle+{e^{\\boldsymbol{2\\pi i} \\theta 2^{1}}}\\vert1\\rangle \\right) \\otimes \\left(|0\\rangle+{e^{\\boldsymbol{2\\pi i} \\theta 2^{0}}}\\vert1\\rangle \\right) \\otimes |\\psi\\rangle\\\\\\\\\n",
    "& = \\frac{1}{2^{\\frac {n}{2}}}\\sum _{k=0}^{2^{n}-1}e^{\\boldsymbol{2\\pi i} \\theta k}|k\\rangle \\otimes \\vert\\psi\\rangle\n",
    "\\end{aligned}\n",
    "where $k$ denotes the integer representation of n-bit binary numbers. \n",
    "\n",
    "iv. **Inverse Fourier Transform**: Notice that the above expression is exactly the result of applying a quantum Fourier transform as we derived in the notebook on [QFT and its Qiskit Implementation](../mod7/qft.ipynb). Recall that QFT maps an n-qubit input state $\\vert x\\rangle$ into an output as\n",
    "\n",
    "$$\n",
    "QFT\\vert x \\rangle = \\frac{1}{2^\\frac{n}{2}}\n",
    "\\left(\\vert0\\rangle + e^{\\frac{2\\pi i}{2}x} \\vert1\\rangle\\right) \n",
    "\\otimes\n",
    "\\left(\\vert0\\rangle + e^{\\frac{2\\pi i}{2^2}x} \\vert1\\rangle\\right) \n",
    "\\otimes  \n",
    "\\ldots\n",
    "\\otimes\n",
    "\\left(\\vert0\\rangle + e^{\\frac{2\\pi i}{2^{n-1}}x} \\vert1\\rangle\\right) \n",
    "\\otimes\n",
    "\\left(\\vert0\\rangle + e^{\\frac{2\\pi i}{2^n}x} \\vert1\\rangle\\right) \n",
    "$$\n",
    "\n",
    "Replacing $x$ by $2^n\\theta$ in the above expression gives exactly the expression derived in step 2 above. Therefore, to recover the state $\\vert2^n\\theta\\rangle$, apply an inverse Fourier transform on the auxiliary register. Doing so, we find\n",
    "\n",
    "$$\n",
    "\\vert\\psi_3\\rangle = \\frac {1}{2^{\\frac {n}{2}}}\\sum _{k=0}^{2^{n}-1}e^{\\boldsymbol{2\\pi i} \\theta k}|k\\rangle \\otimes | \\psi \\rangle \\xrightarrow{\\mathcal{QFT}_n^{-1}} \\frac {1}{2^n}\\sum _{x=0}^{2^{n}-1}\\sum _{k=0}^{2^{n}-1} e^{-\\frac{2\\pi i k}{2^n}(x - 2^n \\theta)} |x\\rangle \\otimes |\\psi\\rangle\n",
    "$$ \n",
    "\n",
    "v. **Measurement**: \n",
    "The above expression peaks near $x = 2^n\\theta$. For the case when $2^n\\theta$ is an integer, measuring in the computational basis gives the phase in the auxiliary register with high probability: \n",
    "\n",
    "\n",
    "\n",
    "$$ |\\psi_4\\rangle = | 2^n \\theta \\rangle \\otimes | \\psi \\rangle$$\n",
    "\n",
    "\n",
    "\n",
    "For the case when $2^n\\theta$ is not an integer, it can be shown that the above expression still peaks near $x = 2^n\\theta$ with probability better than $4/\\pi^2 \\approx 40\\%$ [1]."
   ]
  },
  {
   "cell_type": "markdown",
   "metadata": {},
   "source": [
    "## 2. Example: T-gate <a id='example_t_gate'></a>"
   ]
  },
  {
   "cell_type": "markdown",
   "metadata": {},
   "source": [
    "Let’s take a gate we know well, the $T$-gate, and use Quantum Phase Estimation to estimate its phase. You will remember that the $T$-gate adds a phase of $e^\\frac{i\\pi}{4}$ to the state $|1\\rangle$:\n",
    "\n",
    "$$ T|1\\rangle = \n",
    "\\begin{bmatrix}\n",
    "1 & 0\\\\\n",
    "0 & e^\\frac{i\\pi}{4}\\\\ \n",
    "\\end{bmatrix}\n",
    "\\begin{bmatrix}\n",
    "0\\\\\n",
    "1\\\\ \n",
    "\\end{bmatrix}\n",
    "= e^\\frac{i\\pi}{4}|1\\rangle $$\n",
    "\n",
    "Since QPE will give us $\\theta$ where:\n",
    "\n",
    "\n",
    "\n",
    "$$ T|1\\rangle = e^{2i\\pi\\theta}|1\\rangle $$\n",
    "\n",
    "\n",
    "\n",
    "We expect to find:\n",
    "\n",
    "\n",
    "\n",
    "$$\\theta = \\frac{1}{8}$$\n",
    "\n",
    "\n",
    "\n",
    "In this example we will use three qubits and obtain an _exact_ result (not an estimation!)"
   ]
  },
  {
   "cell_type": "markdown",
   "metadata": {},
   "source": [
    "### 2.1 Creating the Circuit <a id='creating_the_circuit'></a>\n",
    "Let's first prepare our environment:"
   ]
  },
  {
   "cell_type": "code",
   "execution_count": 1,
   "metadata": {},
   "outputs": [],
   "source": [
    "import matplotlib.pyplot as plt\n",
    "import numpy as np\n",
    "\n",
    "from qiskit.visualization import plot_histogram\n",
    "from qiskit_aer import AerSimulator\n",
    "from qiskit import QuantumCircuit"
   ]
  },
  {
   "cell_type": "code",
   "execution_count": 2,
   "metadata": {},
   "outputs": [],
   "source": [
    "aer_sim = AerSimulator()"
   ]
  },
  {
   "cell_type": "markdown",
   "metadata": {},
   "source": [
    "Now, set up the quantum circuit. We will use four qubits -- qubits 0 to 2 as counting qubits, and qubit 3 as the eigenstate of the unitary operator ($T$). \n",
    "\n",
    "We initialize $\\vert\\psi\\rangle = \\vert1\\rangle$ by applying an $X$ gate:"
   ]
  },
  {
   "cell_type": "code",
   "execution_count": 3,
   "metadata": {},
   "outputs": [
    {
     "data": {
      "text/html": [
       "<pre style=\"word-wrap: normal;white-space: pre;background: #fff0;line-height: 1.1;font-family: &quot;Courier New&quot;,Courier,monospace\">          \n",
       "q_0: ─────\n",
       "          \n",
       "q_1: ─────\n",
       "          \n",
       "q_2: ─────\n",
       "     ┌───┐\n",
       "q_3: ┤ X ├\n",
       "     └───┘\n",
       "c: 3/═════\n",
       "          </pre>"
      ],
      "text/plain": [
       "          \n",
       "q_0: ─────\n",
       "          \n",
       "q_1: ─────\n",
       "          \n",
       "q_2: ─────\n",
       "     ┌───┐\n",
       "q_3: ┤ X ├\n",
       "     └───┘\n",
       "c: 3/═════\n",
       "          "
      ]
     },
     "execution_count": 3,
     "metadata": {},
     "output_type": "execute_result"
    }
   ],
   "source": [
    "qpe = QuantumCircuit(4, 3)\n",
    "qpe.x(3)\n",
    "qpe.draw()"
   ]
  },
  {
   "cell_type": "markdown",
   "metadata": {},
   "source": [
    "Next, we apply Hadamard gates to the counting qubits:"
   ]
  },
  {
   "cell_type": "code",
   "execution_count": 4,
   "metadata": {},
   "outputs": [
    {
     "data": {
      "text/html": [
       "<pre style=\"word-wrap: normal;white-space: pre;background: #fff0;line-height: 1.1;font-family: &quot;Courier New&quot;,Courier,monospace\">     ┌───┐\n",
       "q_0: ┤ H ├\n",
       "     ├───┤\n",
       "q_1: ┤ H ├\n",
       "     ├───┤\n",
       "q_2: ┤ H ├\n",
       "     ├───┤\n",
       "q_3: ┤ X ├\n",
       "     └───┘\n",
       "c: 3/═════\n",
       "          </pre>"
      ],
      "text/plain": [
       "     ┌───┐\n",
       "q_0: ┤ H ├\n",
       "     ├───┤\n",
       "q_1: ┤ H ├\n",
       "     ├───┤\n",
       "q_2: ┤ H ├\n",
       "     ├───┤\n",
       "q_3: ┤ X ├\n",
       "     └───┘\n",
       "c: 3/═════\n",
       "          "
      ]
     },
     "execution_count": 4,
     "metadata": {},
     "output_type": "execute_result"
    }
   ],
   "source": [
    "for qubit in range(3):\n",
    "    qpe.h(qubit)\n",
    "qpe.draw()"
   ]
  },
  {
   "cell_type": "markdown",
   "metadata": {},
   "source": [
    "Next we perform the controlled unitary operations. **Remember:** Qiskit orders its qubits the opposite way round to the image above."
   ]
  },
  {
   "cell_type": "code",
   "execution_count": 5,
   "metadata": {},
   "outputs": [
    {
     "data": {
      "text/html": [
       "<pre style=\"word-wrap: normal;white-space: pre;background: #fff0;line-height: 1.1;font-family: &quot;Courier New&quot;,Courier,monospace\">     ┌───┐                                                               \n",
       "q_0: ┤ H ├─■─────────────────────────────────────────────────────────────\n",
       "     ├───┤ │                                                             \n",
       "q_1: ┤ H ├─┼────────■────────■───────────────────────────────────────────\n",
       "     ├───┤ │        │        │                                           \n",
       "q_2: ┤ H ├─┼────────┼────────┼────────■────────■────────■────────■───────\n",
       "     ├───┤ │P(π/4)  │P(π/4)  │P(π/4)  │P(π/4)  │P(π/4)  │P(π/4)  │P(π/4) \n",
       "q_3: ┤ X ├─■────────■────────■────────■────────■────────■────────■───────\n",
       "     └───┘                                                               \n",
       "c: 3/════════════════════════════════════════════════════════════════════\n",
       "                                                                         </pre>"
      ],
      "text/plain": [
       "     ┌───┐                                                               \n",
       "q_0: ┤ H ├─■─────────────────────────────────────────────────────────────\n",
       "     ├───┤ │                                                             \n",
       "q_1: ┤ H ├─┼────────■────────■───────────────────────────────────────────\n",
       "     ├───┤ │        │        │                                           \n",
       "q_2: ┤ H ├─┼────────┼────────┼────────■────────■────────■────────■───────\n",
       "     ├───┤ │P(π/4)  │P(π/4)  │P(π/4)  │P(π/4)  │P(π/4)  │P(π/4)  │P(π/4) \n",
       "q_3: ┤ X ├─■────────■────────■────────■────────■────────■────────■───────\n",
       "     └───┘                                                               \n",
       "c: 3/════════════════════════════════════════════════════════════════════\n",
       "                                                                         "
      ]
     },
     "execution_count": 5,
     "metadata": {},
     "output_type": "execute_result"
    }
   ],
   "source": [
    "repetitions = 1\n",
    "for counting_qubit in range(3):\n",
    "    # U, U^2, U^4,\n",
    "    for i in range(repetitions):\n",
    "        qpe.cp(np.pi / 4, counting_qubit, 3)\n",
    "        # This is CU\n",
    "    repetitions *= 2\n",
    "qpe.draw()"
   ]
  },
  {
   "cell_type": "markdown",
   "metadata": {},
   "source": [
    "We apply the inverse quantum Fourier transformation to convert the state of the counting register. Here we provide the code for $QFT^\\dagger$:"
   ]
  },
  {
   "cell_type": "code",
   "execution_count": 6,
   "metadata": {},
   "outputs": [],
   "source": [
    "def qft_dagger(qc, n):\n",
    "    \"\"\"n-qubit QFTdagger the first n qubits in circ\"\"\"\n",
    "\n",
    "    for qubit in range(n // 2):\n",
    "        qc.swap(qubit, n - qubit - 1)\n",
    "    for j in range(n):\n",
    "        for m in range(j):\n",
    "            qc.cp(-np.pi / float(2 ** (j - m)), m, j)\n",
    "        qc.h(j)"
   ]
  },
  {
   "cell_type": "markdown",
   "metadata": {},
   "source": [
    "We then measure the counting register:"
   ]
  },
  {
   "cell_type": "code",
   "execution_count": 7,
   "metadata": {},
   "outputs": [],
   "source": [
    "qpe.barrier()\n",
    "qft_dagger(qpe, 3)\n",
    "qpe.barrier()\n",
    "for n in range(3):\n",
    "    qpe.measure(n, n)\n",
    "\n",
    "qpe.draw()"
   ]
  },
  {
   "cell_type": "markdown",
   "metadata": {},
   "source": [
    "### 2.2 Results <a id='results'></a>"
   ]
  },
  {
   "cell_type": "code",
   "execution_count": 9,
   "metadata": {},
   "outputs": [
    {
     "data": {
      "image/png": "[encoded data removed]",
      "text/plain": [
       "<Figure size 640x480 with 1 Axes>"
      ]
     },
     "execution_count": 9,
     "metadata": {},
     "output_type": "execute_result"
    }
   ],
   "source": [
    "results = aer_sim.run(qpe).result()\n",
    "answer = results.get_counts()\n",
    "\n",
    "plot_histogram(answer)"
   ]
  },
  {
   "cell_type": "markdown",
   "metadata": {},
   "source": [
    "We see we get one result (`001`) with certainty, which translates to the decimal: `1`. We now need to divide our result (`1`) by $2^n$ to get $\\theta$:\n",
    "\n",
    "\n",
    "\n",
    "$$ \\theta = \\frac{1}{2^3} = \\frac{1}{8} $$\n",
    "\n",
    "\n",
    "\n",
    "This is exactly the result we expected!"
   ]
  },
  {
   "cell_type": "markdown",
   "metadata": {},
   "source": [
    "## 3. Example: Getting More Precision <a id='getting_more_precision'></a>\n",
    "### 3.1 The Problem <a id='the_problem'></a>\n",
    "\n",
    "Instead of a $T$-gate, let’s use a gate with $\\theta = \\frac{1}{3}$. We set up our circuit as with the last example:"
   ]
  },
  {
   "cell_type": "code",
   "execution_count": 17,
   "metadata": {},
   "outputs": [
    {
     "data": {
      "text/html": [
       "<pre style=\"word-wrap: normal;white-space: pre;background: #fff0;line-height: 1.1;font-family: &quot;Courier New&quot;,Courier,monospace\">     ┌───┐                                                                         ┌───┐                                   ┌─┐           \n",
       "q_0: ┤ H ├─■─────────────────────────────────────────────────────────────────────X─┤ H ├─■──────────────■──────────────────┤M├───────────\n",
       "     ├───┤ │                                                                     │ └───┘ │P(-π/2) ┌───┐ │                  └╥┘     ┌─┐   \n",
       "q_1: ┤ H ├─┼─────────■─────────■─────────────────────────────────────────────────┼───────■────────┤ H ├─┼─────────■─────────╫──────┤M├───\n",
       "     ├───┤ │         │         │                                                 │                └───┘ │P(-π/4)  │P(-π/2)  ║ ┌───┐└╥┘┌─┐\n",
       "q_2: ┤ H ├─┼─────────┼─────────┼─────────■─────────■─────────■─────────■─────────X──────────────────────■─────────■─────────╫─┤ H ├─╫─┤M├\n",
       "     ├───┤ │P(2π/3)  │P(2π/3)  │P(2π/3)  │P(2π/3)  │P(2π/3)  │P(2π/3)  │P(2π/3)                                             ║ └───┘ ║ └╥┘\n",
       "q_3: ┤ X ├─■─────────■─────────■─────────■─────────■─────────■─────────■────────────────────────────────────────────────────╫───────╫──╫─\n",
       "     └───┘                                                                                                                  ║       ║  ║ \n",
       "c: 3/═══════════════════════════════════════════════════════════════════════════════════════════════════════════════════════╩═══════╩══╩═\n",
       "                                                                                                                            0       1  2 </pre>"
      ],
      "text/plain": [
       "     ┌───┐                                                                         ┌───┐                                   ┌─┐           \n",
       "q_0: ┤ H ├─■─────────────────────────────────────────────────────────────────────X─┤ H ├─■──────────────■──────────────────┤M├───────────\n",
       "     ├───┤ │                                                                     │ └───┘ │P(-π/2) ┌───┐ │                  └╥┘     ┌─┐   \n",
       "q_1: ┤ H ├─┼─────────■─────────■─────────────────────────────────────────────────┼───────■────────┤ H ├─┼─────────■─────────╫──────┤M├───\n",
       "     ├───┤ │         │         │                                                 │                └───┘ │P(-π/4)  │P(-π/2)  ║ ┌───┐└╥┘┌─┐\n",
       "q_2: ┤ H ├─┼─────────┼─────────┼─────────■─────────■─────────■─────────■─────────X──────────────────────■─────────■─────────╫─┤ H ├─╫─┤M├\n",
       "     ├───┤ │P(2π/3)  │P(2π/3)  │P(2π/3)  │P(2π/3)  │P(2π/3)  │P(2π/3)  │P(2π/3)                                             ║ └───┘ ║ └╥┘\n",
       "q_3: ┤ X ├─■─────────■─────────■─────────■─────────■─────────■─────────■────────────────────────────────────────────────────╫───────╫──╫─\n",
       "     └───┘                                                                                                                  ║       ║  ║ \n",
       "c: 3/═══════════════════════════════════════════════════════════════════════════════════════════════════════════════════════╩═══════╩══╩═\n",
       "                                                                                                                            0       1  2 "
      ]
     },
     "execution_count": 17,
     "metadata": {},
     "output_type": "execute_result"
    }
   ],
   "source": [
    "# Create and set up circuit\n",
    "qpe2 = QuantumCircuit(4, 3)\n",
    "\n",
    "# Apply H-Gates to counting qubits:\n",
    "for qubit in range(3):\n",
    "    qpe2.h(qubit)\n",
    "\n",
    "# Prepare our eigenstate |psi>:\n",
    "qpe2.x(3)\n",
    "\n",
    "# Do the controlled-U operations:\n",
    "angle = 2 * np.pi / 3\n",
    "repetitions = 1\n",
    "for counting_qubit in range(3):\n",
    "    for i in range(repetitions):\n",
    "        qpe2.cp(angle, counting_qubit, 3)\n",
    "    repetitions *= 2\n",
    "\n",
    "# Do the inverse QFT:\n",
    "qft_dagger(qpe2, 3)\n",
    "\n",
    "# Measure of course!\n",
    "for n in range(3):\n",
    "    qpe2.measure(n, n)\n",
    "\n",
    "qpe2.draw(fold=150)"
   ]
  },
  {
   "cell_type": "code",
   "execution_count": 11,
   "metadata": {},
   "outputs": [
    {
     "data": {
      "image/png": "[encoded data removed]",
      "text/plain": [
       "<Figure size 640x480 with 1 Axes>"
      ]
     },
     "execution_count": 11,
     "metadata": {},
     "output_type": "execute_result"
    }
   ],
   "source": [
    "# Let's see the results!\n",
    "shots = 4096\n",
    "results = aer_sim.run(qpe2).result()\n",
    "answer = results.get_counts()\n",
    "\n",
    "plot_histogram(answer)"
   ]
  },
  {
   "cell_type": "markdown",
   "metadata": {},
   "source": [
    "We are expecting the result $\\theta = 0.3333\\dots$, and we see our most likely results are `010(bin) = 2(dec)` and `011(bin) = 3(dec)`. These two results would tell us that $\\theta = 0.25$ (off by 25%) and $\\theta = 0.375$ (off by 13%) respectively. The true value of $\\theta$ lies between the values we can get from our counting bits, and this gives us uncertainty and imprecision.\n",
    "\n",
    "### 3.2 The Solution <a id='the_solution'></a>\n",
    "To get more precision we simply add more counting qubits. We are going to add two more counting qubits:"
   ]
  },
  {
   "cell_type": "code",
   "execution_count": 16,
   "metadata": {
    "scrolled": false
   },
   "outputs": [
    {
     "data": {
      "text/html": [
       "<pre style=\"word-wrap: normal;white-space: pre;background: #fff0;line-height: 1.1;font-family: &quot;Courier New&quot;,Courier,monospace\">     ┌───┐                                                                                                                                  »\n",
       "q_0: ┤ H ├─■────────────────────────────────────────────────────────────────────────────────────────────────────────────────────────────────»\n",
       "     ├───┤ │                                                                                                                                »\n",
       "q_1: ┤ H ├─┼─────────■─────────■────────────────────────────────────────────────────────────────────────────────────────────────────────────»\n",
       "     ├───┤ │         │         │                                                                                                            »\n",
       "q_2: ┤ H ├─┼─────────┼─────────┼─────────■─────────■─────────■─────────■────────────────────────────────────────────────────────────────────»\n",
       "     ├───┤ │         │         │         │         │         │         │                                                                    »\n",
       "q_3: ┤ H ├─┼─────────┼─────────┼─────────┼─────────┼─────────┼─────────┼─────────■─────────■─────────■─────────■─────────■─────────■────────»\n",
       "     ├───┤ │         │         │         │         │         │         │         │         │         │         │         │         │        »\n",
       "q_4: ┤ H ├─┼─────────┼─────────┼─────────┼─────────┼─────────┼─────────┼─────────┼─────────┼─────────┼─────────┼─────────┼─────────┼────────»\n",
       "     ├───┤ │P(2π/3)  │P(2π/3)  │P(2π/3)  │P(2π/3)  │P(2π/3)  │P(2π/3)  │P(2π/3)  │P(2π/3)  │P(2π/3)  │P(2π/3)  │P(2π/3)  │P(2π/3)  │P(2π/3) »\n",
       "q_5: ┤ X ├─■─────────■─────────■─────────■─────────■─────────■─────────■─────────■─────────■─────────■─────────■─────────■─────────■────────»\n",
       "     └───┘                                                                                                                                  »\n",
       "c: 5/═══════════════════════════════════════════════════════════════════════════════════════════════════════════════════════════════════════»\n",
       "                                                                                                                                            »\n",
       "«                                                                                                                                                 »\n",
       "«q_0: ────────────────────────────────────────────────────────────────────────────────────────────────────────────────────────────────────────────»\n",
       "«                                                                                                                                                 »\n",
       "«q_1: ────────────────────────X───────────────────────────────────────────────────────────────────────────────────────────────────────────────────»\n",
       "«                             │                                                                                                                   »\n",
       "«q_2: ────────────────────────┼───────────────────────────────────────────────────────────────────────────────────────────────────────────────────»\n",
       "«                             │                                                                                                                   »\n",
       "«q_3: ─■─────────■────────────X───────────────────────────────────────────────────────────────────────────────────────────────────────────────────»\n",
       "«      │         │                                                                                                                                »\n",
       "«q_4: ─┼─────────┼─────────■─────────■─────────■─────────■─────────■─────────■─────────■─────────■─────────■─────────■─────────■─────────■────────»\n",
       "«      │P(2π/3)  │P(2π/3)  │P(2π/3)  │P(2π/3)  │P(2π/3)  │P(2π/3)  │P(2π/3)  │P(2π/3)  │P(2π/3)  │P(2π/3)  │P(2π/3)  │P(2π/3)  │P(2π/3)  │P(2π/3) »\n",
       "«q_5: ─■─────────■─────────■─────────■─────────■─────────■─────────■─────────■─────────■─────────■─────────■─────────■─────────■─────────■────────»\n",
       "«                                                                                                                                                 »\n",
       "«c: 5/════════════════════════════════════════════════════════════════════════════════════════════════════════════════════════════════════════════»\n",
       "«                                                                                                                                                 »\n",
       "«                                                ┌───┐                                                                                           »\n",
       "«q_0: ─────────────────────────────────────────X─┤ H ├─■──────────────■───────────────────■────────────────────────■─────────────────────────────»\n",
       "«                                              │ └───┘ │P(-π/2) ┌───┐ │                   │                        │                             »\n",
       "«q_1: ─────────────────────────────────────────┼───────■────────┤ H ├─┼─────────■─────────┼──────────────■─────────┼────────────────────■────────»\n",
       "«                                              │                └───┘ │P(-π/4)  │P(-π/2)  │        ┌───┐ │         │                    │        »\n",
       "«q_2: ─────────────────────────────────────────┼──────────────────────■─────────■─────────┼────────┤ H ├─┼─────────┼──────────■─────────┼────────»\n",
       "«                                              │                                          │P(-π/8) └───┘ │P(-π/4)  │          │P(-π/2)  │        »\n",
       "«q_3: ─────────────────────────────────────────┼──────────────────────────────────────────■──────────────■─────────┼──────────■─────────┼────────»\n",
       "«                                              │                                                                   │P(-π/16)            │P(-π/8) »\n",
       "«q_4: ─■─────────■─────────■─────────■─────────X───────────────────────────────────────────────────────────────────■────────────────────■────────»\n",
       "«      │P(2π/3)  │P(2π/3)  │P(2π/3)  │P(2π/3)                                                                                                    »\n",
       "«q_5: ─■─────────■─────────■─────────■───────────────────────────────────────────────────────────────────────────────────────────────────────────»\n",
       "«                                                                                                                                                »\n",
       "«c: 5/═══════════════════════════════════════════════════════════════════════════════════════════════════════════════════════════════════════════»\n",
       "«                                                                                                                                                »\n",
       "«                                    ░ ┌─┐            \n",
       "«q_0: ───────────────────────────────░─┤M├────────────\n",
       "«                                    ░ └╥┘┌─┐         \n",
       "«q_1: ───────────────────────────────░──╫─┤M├─────────\n",
       "«                                    ░  ║ └╥┘┌─┐      \n",
       "«q_2: ──────■────────────────────────░──╫──╫─┤M├──────\n",
       "«     ┌───┐ │                        ░  ║  ║ └╥┘┌─┐   \n",
       "«q_3: ┤ H ├─┼─────────■──────────────░──╫──╫──╫─┤M├───\n",
       "«     └───┘ │P(-π/4)  │P(-π/2) ┌───┐ ░  ║  ║  ║ └╥┘┌─┐\n",
       "«q_4: ──────■─────────■────────┤ H ├─░──╫──╫──╫──╫─┤M├\n",
       "«                              └───┘ ░  ║  ║  ║  ║ └╥┘\n",
       "«q_5: ───────────────────────────────░──╫──╫──╫──╫──╫─\n",
       "«                                    ░  ║  ║  ║  ║  ║ \n",
       "«c: 5/══════════════════════════════════╩══╩══╩══╩══╩═\n",
       "«                                       0  1  2  3  4 </pre>"
      ],
      "text/plain": [
       "     ┌───┐                                                                                                                                  »\n",
       "q_0: ┤ H ├─■────────────────────────────────────────────────────────────────────────────────────────────────────────────────────────────────»\n",
       "     ├───┤ │                                                                                                                                »\n",
       "q_1: ┤ H ├─┼─────────■─────────■────────────────────────────────────────────────────────────────────────────────────────────────────────────»\n",
       "     ├───┤ │         │         │                                                                                                            »\n",
       "q_2: ┤ H ├─┼─────────┼─────────┼─────────■─────────■─────────■─────────■────────────────────────────────────────────────────────────────────»\n",
       "     ├───┤ │         │         │         │         │         │         │                                                                    »\n",
       "q_3: ┤ H ├─┼─────────┼─────────┼─────────┼─────────┼─────────┼─────────┼─────────■─────────■─────────■─────────■─────────■─────────■────────»\n",
       "     ├───┤ │         │         │         │         │         │         │         │         │         │         │         │         │        »\n",
       "q_4: ┤ H ├─┼─────────┼─────────┼─────────┼─────────┼─────────┼─────────┼─────────┼─────────┼─────────┼─────────┼─────────┼─────────┼────────»\n",
       "     ├───┤ │P(2π/3)  │P(2π/3)  │P(2π/3)  │P(2π/3)  │P(2π/3)  │P(2π/3)  │P(2π/3)  │P(2π/3)  │P(2π/3)  │P(2π/3)  │P(2π/3)  │P(2π/3)  │P(2π/3) »\n",
       "q_5: ┤ X ├─■─────────■─────────■─────────■─────────■─────────■─────────■─────────■─────────■─────────■─────────■─────────■─────────■────────»\n",
       "     └───┘                                                                                                                                  »\n",
       "c: 5/═══════════════════════════════════════════════════════════════════════════════════════════════════════════════════════════════════════»\n",
       "                                                                                                                                            »\n",
       "«                                                                                                                                                 »\n",
       "«q_0: ────────────────────────────────────────────────────────────────────────────────────────────────────────────────────────────────────────────»\n",
       "«                                                                                                                                                 »\n",
       "«q_1: ────────────────────────X───────────────────────────────────────────────────────────────────────────────────────────────────────────────────»\n",
       "«                             │                                                                                                                   »\n",
       "«q_2: ────────────────────────┼───────────────────────────────────────────────────────────────────────────────────────────────────────────────────»\n",
       "«                             │                                                                                                                   »\n",
       "«q_3: ─■─────────■────────────X───────────────────────────────────────────────────────────────────────────────────────────────────────────────────»\n",
       "«      │         │                                                                                                                                »\n",
       "«q_4: ─┼─────────┼─────────■─────────■─────────■─────────■─────────■─────────■─────────■─────────■─────────■─────────■─────────■─────────■────────»\n",
       "«      │P(2π/3)  │P(2π/3)  │P(2π/3)  │P(2π/3)  │P(2π/3)  │P(2π/3)  │P(2π/3)  │P(2π/3)  │P(2π/3)  │P(2π/3)  │P(2π/3)  │P(2π/3)  │P(2π/3)  │P(2π/3) »\n",
       "«q_5: ─■─────────■─────────■─────────■─────────■─────────■─────────■─────────■─────────■─────────■─────────■─────────■─────────■─────────■────────»\n",
       "«                                                                                                                                                 »\n",
       "«c: 5/════════════════════════════════════════════════════════════════════════════════════════════════════════════════════════════════════════════»\n",
       "«                                                                                                                                                 »\n",
       "«                                                ┌───┐                                                                                           »\n",
       "«q_0: ─────────────────────────────────────────X─┤ H ├─■──────────────■───────────────────■────────────────────────■─────────────────────────────»\n",
       "«                                              │ └───┘ │P(-π/2) ┌───┐ │                   │                        │                             »\n",
       "«q_1: ─────────────────────────────────────────┼───────■────────┤ H ├─┼─────────■─────────┼──────────────■─────────┼────────────────────■────────»\n",
       "«                                              │                └───┘ │P(-π/4)  │P(-π/2)  │        ┌───┐ │         │                    │        »\n",
       "«q_2: ─────────────────────────────────────────┼──────────────────────■─────────■─────────┼────────┤ H ├─┼─────────┼──────────■─────────┼────────»\n",
       "«                                              │                                          │P(-π/8) └───┘ │P(-π/4)  │          │P(-π/2)  │        »\n",
       "«q_3: ─────────────────────────────────────────┼──────────────────────────────────────────■──────────────■─────────┼──────────■─────────┼────────»\n",
       "«                                              │                                                                   │P(-π/16)            │P(-π/8) »\n",
       "«q_4: ─■─────────■─────────■─────────■─────────X───────────────────────────────────────────────────────────────────■────────────────────■────────»\n",
       "«      │P(2π/3)  │P(2π/3)  │P(2π/3)  │P(2π/3)                                                                                                    »\n",
       "«q_5: ─■─────────■─────────■─────────■───────────────────────────────────────────────────────────────────────────────────────────────────────────»\n",
       "«                                                                                                                                                »\n",
       "«c: 5/═══════════════════════════════════════════════════════════════════════════════════════════════════════════════════════════════════════════»\n",
       "«                                                                                                                                                »\n",
       "«                                    ░ ┌─┐            \n",
       "«q_0: ───────────────────────────────░─┤M├────────────\n",
       "«                                    ░ └╥┘┌─┐         \n",
       "«q_1: ───────────────────────────────░──╫─┤M├─────────\n",
       "«                                    ░  ║ └╥┘┌─┐      \n",
       "«q_2: ──────■────────────────────────░──╫──╫─┤M├──────\n",
       "«     ┌───┐ │                        ░  ║  ║ └╥┘┌─┐   \n",
       "«q_3: ┤ H ├─┼─────────■──────────────░──╫──╫──╫─┤M├───\n",
       "«     └───┘ │P(-π/4)  │P(-π/2) ┌───┐ ░  ║  ║  ║ └╥┘┌─┐\n",
       "«q_4: ──────■─────────■────────┤ H ├─░──╫──╫──╫──╫─┤M├\n",
       "«                              └───┘ ░  ║  ║  ║  ║ └╥┘\n",
       "«q_5: ───────────────────────────────░──╫──╫──╫──╫──╫─\n",
       "«                                    ░  ║  ║  ║  ║  ║ \n",
       "«c: 5/══════════════════════════════════╩══╩══╩══╩══╩═\n",
       "«                                       0  1  2  3  4 "
      ]
     },
     "execution_count": 16,
     "metadata": {},
     "output_type": "execute_result"
    }
   ],
   "source": [
    "# Create and set up circuit\n",
    "qpe3 = QuantumCircuit(6, 5)\n",
    "\n",
    "# Apply H-Gates to counting qubits:\n",
    "for qubit in range(5):\n",
    "    qpe3.h(qubit)\n",
    "\n",
    "# Prepare our eigenstate |psi>:\n",
    "qpe3.x(5)\n",
    "\n",
    "# Do the controlled-U operations:\n",
    "angle = 2 * np.pi / 3\n",
    "repetitions = 1\n",
    "for counting_qubit in range(5):\n",
    "    for i in range(repetitions):\n",
    "        qpe3.cp(angle, counting_qubit, 5)\n",
    "    repetitions *= 2\n",
    "\n",
    "# Do the inverse QFT:\n",
    "qft_dagger(qpe3, 5)\n",
    "\n",
    "# Measure of course!\n",
    "qpe3.barrier()\n",
    "for n in range(5):\n",
    "    qpe3.measure(n, n)\n",
    "\n",
    "qpe3.draw(fold=150)"
   ]
  },
  {
   "cell_type": "code",
   "execution_count": 13,
   "metadata": {},
   "outputs": [
    {
     "data": {
      "image/png": "[encoded data removed]",
      "text/plain": [
       "<Figure size 640x480 with 1 Axes>"
      ]
     },
     "execution_count": 13,
     "metadata": {},
     "output_type": "execute_result"
    }
   ],
   "source": [
    "shots = 4096\n",
    "results = aer_sim.run(qpe3).result()\n",
    "answer = results.get_counts()\n",
    "\n",
    "plot_histogram(answer)"
   ]
  },
  {
   "cell_type": "markdown",
   "metadata": {},
   "source": [
    "The two most likely measurements are now `01011` (decimal 11) and `01010` (decimal 10). Measuring these results would tell us $\\theta$ is:\n",
    "\n",
    "$$\n",
    "\\theta = \\frac{11}{2^5} = 0.344,\\;\\text{  or  }\\;\\; \\theta = \\frac{10}{2^5} = 0.313\n",
    "$$\n",
    "\n",
    "These two results differ from $\\frac{1}{3}$ by 3% and 6% respectively. A much better precision!"
   ]
  }
 ],
 "metadata": {
  "kernelspec": {
   "display_name": "Python 3",
   "language": "python",
   "name": "python3"
  },
  "language_info": {
   "codemirror_mode": {
    "name": "ipython",
    "version": 3
   },
   "file_extension": ".py",
   "mimetype": "text/x-python",
   "name": "python",
   "nbconvert_exporter": "python",
   "pygments_lexer": "ipython3",
   "version": "3.10.14"
  },
  "widgets": {
   "application/vnd.jupyter.widget-state+json": {
    "state": {
     "07f0e836222e49189a78da4ad1ab61eb": {
      "model_module": "@jupyter-widgets/controls",
      "model_module_version": "1.5.0",
      "model_name": "DescriptionStyleModel",
      "state": {
       "_model_module": "@jupyter-widgets/controls",
       "_model_module_version": "1.5.0",
       "_model_name": "DescriptionStyleModel",
       "_view_count": null,
       "_view_module": "@jupyter-widgets/base",
       "_view_module_version": "1.2.0",
       "_view_name": "StyleView",
       "description_width": ""
      }
     },
     "0f48781a41674f44a4f5bde26b188510": {
      "model_module": "@jupyter-widgets/controls",
      "model_module_version": "1.5.0",
      "model_name": "HTMLModel",
      "state": {
       "_dom_classes": [],
       "_model_module": "@jupyter-widgets/controls",
       "_model_module_version": "1.5.0",
       "_model_name": "HTMLModel",
       "_view_count": null,
       "_view_module": "@jupyter-widgets/controls",
       "_view_module_version": "1.5.0",
       "_view_name": "HTMLView",
       "description": "",
       "description_tooltip": null,
       "layout": "IPY_MODEL_63b91dd0550a4e8db275d8ad7659e662",
       "placeholder": "​",
       "style": "IPY_MODEL_e4ec412806c246f3bf544d989b36134d",
       "value": "<h5>Message</h5>"
      }
     },
     "103cabc5b6394597bb2c186f98da18b5": {
      "model_module": "@jupyter-widgets/controls",
      "model_module_version": "1.5.0",
      "model_name": "DescriptionStyleModel",
      "state": {
       "_model_module": "@jupyter-widgets/controls",
       "_model_module_version": "1.5.0",
       "_model_name": "DescriptionStyleModel",
       "_view_count": null,
       "_view_module": "@jupyter-widgets/base",
       "_view_module_version": "1.2.0",
       "_view_name": "StyleView",
       "description_width": ""
      }
     },
     "14756e0d1d2a428b933633d1a1b3a140": {
      "model_module": "@jupyter-widgets/base",
      "model_module_version": "1.2.0",
      "model_name": "LayoutModel",
      "state": {
       "_model_module": "@jupyter-widgets/base",
       "_model_module_version": "1.2.0",
       "_model_name": "LayoutModel",
       "_view_count": null,
       "_view_module": "@jupyter-widgets/base",
       "_view_module_version": "1.2.0",
       "_view_name": "LayoutView",
       "align_content": null,
       "align_items": null,
       "align_self": null,
       "border": null,
       "bottom": null,
       "display": null,
       "flex": null,
       "flex_flow": null,
       "grid_area": null,
       "grid_auto_columns": null,
       "grid_auto_flow": null,
       "grid_auto_rows": null,
       "grid_column": null,
       "grid_gap": null,
       "grid_row": null,
       "grid_template_areas": null,
       "grid_template_columns": null,
       "grid_template_rows": null,
       "height": null,
       "justify_content": null,
       "justify_items": null,
       "left": null,
       "margin": null,
       "max_height": null,
       "max_width": null,
       "min_height": null,
       "min_width": null,
       "object_fit": null,
       "object_position": null,
       "order": null,
       "overflow": null,
       "overflow_x": null,
       "overflow_y": null,
       "padding": null,
       "right": null,
       "top": null,
       "visibility": null,
       "width": "70px"
      }
     },
     "1991e250972a41c4955d1222dc335b4e": {
      "model_module": "@jupyter-widgets/controls",
      "model_module_version": "1.5.0",
      "model_name": "DescriptionStyleModel",
      "state": {
       "_model_module": "@jupyter-widgets/controls",
       "_model_module_version": "1.5.0",
       "_model_name": "DescriptionStyleModel",
       "_view_count": null,
       "_view_module": "@jupyter-widgets/base",
       "_view_module_version": "1.2.0",
       "_view_name": "StyleView",
       "description_width": ""
      }
     },
     "1e0e4503010c482cb2a84c9fd0bfba0e": {
      "model_module": "@jupyter-widgets/base",
      "model_module_version": "1.2.0",
      "model_name": "LayoutModel",
      "state": {
       "_model_module": "@jupyter-widgets/base",
       "_model_module_version": "1.2.0",
       "_model_name": "LayoutModel",
       "_view_count": null,
       "_view_module": "@jupyter-widgets/base",
       "_view_module_version": "1.2.0",
       "_view_name": "LayoutView",
       "align_content": null,
       "align_items": null,
       "align_self": null,
       "border": null,
       "bottom": null,
       "display": null,
       "flex": null,
       "flex_flow": null,
       "grid_area": null,
       "grid_auto_columns": null,
       "grid_auto_flow": null,
       "grid_auto_rows": null,
       "grid_column": null,
       "grid_gap": null,
       "grid_row": null,
       "grid_template_areas": null,
       "grid_template_columns": null,
       "grid_template_rows": null,
       "height": null,
       "justify_content": null,
       "justify_items": null,
       "left": null,
       "margin": null,
       "max_height": null,
       "max_width": null,
       "min_height": null,
       "min_width": null,
       "object_fit": null,
       "object_position": null,
       "order": null,
       "overflow": null,
       "overflow_x": null,
       "overflow_y": null,
       "padding": null,
       "right": null,
       "top": null,
       "visibility": null,
       "width": "95px"
      }
     },
     "2b52a7a26e5c48fda6003715c49bcce6": {
      "model_module": "@jupyter-widgets/base",
      "model_module_version": "1.2.0",
      "model_name": "LayoutModel",
      "state": {
       "_model_module": "@jupyter-widgets/base",
       "_model_module_version": "1.2.0",
       "_model_name": "LayoutModel",
       "_view_count": null,
       "_view_module": "@jupyter-widgets/base",
       "_view_module_version": "1.2.0",
       "_view_name": "LayoutView",
       "align_content": null,
       "align_items": null,
       "align_self": null,
       "border": null,
       "bottom": null,
       "display": null,
       "flex": null,
       "flex_flow": null,
       "grid_area": null,
       "grid_auto_columns": null,
       "grid_auto_flow": null,
       "grid_auto_rows": null,
       "grid_column": null,
       "grid_gap": null,
       "grid_row": null,
       "grid_template_areas": null,
       "grid_template_columns": null,
       "grid_template_rows": null,
       "height": null,
       "justify_content": null,
       "justify_items": null,
       "left": null,
       "margin": null,
       "max_height": null,
       "max_width": null,
       "min_height": null,
       "min_width": null,
       "object_fit": null,
       "object_position": null,
       "order": null,
       "overflow": null,
       "overflow_x": null,
       "overflow_y": null,
       "padding": null,
       "right": null,
       "top": null,
       "visibility": null,
       "width": "145px"
      }
     },
     "2e19ccaf078d4497a503388c6c308cd9": {
      "model_module": "@jupyter-widgets/controls",
      "model_module_version": "1.5.0",
      "model_name": "HTMLModel",
      "state": {
       "_dom_classes": [],
       "_model_module": "@jupyter-widgets/controls",
       "_model_module_version": "1.5.0",
       "_model_name": "HTMLModel",
       "_view_count": null,
       "_view_module": "@jupyter-widgets/controls",
       "_view_module_version": "1.5.0",
       "_view_name": "HTMLView",
       "description": "",
       "description_tooltip": null,
       "layout": "IPY_MODEL_2b52a7a26e5c48fda6003715c49bcce6",
       "placeholder": "​",
       "style": "IPY_MODEL_103cabc5b6394597bb2c186f98da18b5",
       "value": "<h5>Backend</h5>"
      }
     },
     "4582b9816b7c42548186dff868a7696e": {
      "model_module": "@jupyter-widgets/controls",
      "model_module_version": "1.5.0",
      "model_name": "HBoxModel",
      "state": {
       "_dom_classes": [],
       "_model_module": "@jupyter-widgets/controls",
       "_model_module_version": "1.5.0",
       "_model_name": "HBoxModel",
       "_view_count": null,
       "_view_module": "@jupyter-widgets/controls",
       "_view_module_version": "1.5.0",
       "_view_name": "HBoxView",
       "box_style": "",
       "children": [
        "IPY_MODEL_5c25562365e04e80bc284f15f805476d",
        "IPY_MODEL_2e19ccaf078d4497a503388c6c308cd9",
        "IPY_MODEL_7fae6301bcb0440588f449c90b4d069f",
        "IPY_MODEL_98a594ee115a4b4a8eb448db8d509287",
        "IPY_MODEL_0f48781a41674f44a4f5bde26b188510"
       ],
       "layout": "IPY_MODEL_d666b2739d53425d9a4c7c84cd4ded08"
      }
     },
     "49dcf6d010844c2caef76ca86bfd07c9": {
      "model_module": "@jupyter-widgets/controls",
      "model_module_version": "1.5.0",
      "model_name": "ButtonModel",
      "state": {
       "_dom_classes": [],
       "_model_module": "@jupyter-widgets/controls",
       "_model_module_version": "1.5.0",
       "_model_name": "ButtonModel",
       "_view_count": null,
       "_view_module": "@jupyter-widgets/controls",
       "_view_module_version": "1.5.0",
       "_view_name": "ButtonView",
       "button_style": "primary",
       "description": "Clear",
       "disabled": false,
       "icon": "",
       "layout": "IPY_MODEL_aaaa53c544b743a080bb74ad3bd9a33b",
       "style": "IPY_MODEL_d8e2c5ccd95549b2801c90eadf292e93",
       "tooltip": ""
      }
     },
     "4c9bf8524ba8439b938ee806c74f376f": {
      "model_module": "@jupyter-widgets/base",
      "model_module_version": "1.2.0",
      "model_name": "LayoutModel",
      "state": {
       "_model_module": "@jupyter-widgets/base",
       "_model_module_version": "1.2.0",
       "_model_name": "LayoutModel",
       "_view_count": null,
       "_view_module": "@jupyter-widgets/base",
       "_view_module_version": "1.2.0",
       "_view_name": "LayoutView",
       "align_content": null,
       "align_items": null,
       "align_self": null,
       "border": null,
       "bottom": null,
       "display": null,
       "flex": null,
       "flex_flow": null,
       "grid_area": null,
       "grid_auto_columns": null,
       "grid_auto_flow": null,
       "grid_auto_rows": null,
       "grid_column": null,
       "grid_gap": null,
       "grid_row": null,
       "grid_template_areas": null,
       "grid_template_columns": null,
       "grid_template_rows": null,
       "height": null,
       "justify_content": null,
       "justify_items": null,
       "left": null,
       "margin": null,
       "max_height": null,
       "max_width": null,
       "min_height": null,
       "min_width": null,
       "object_fit": null,
       "object_position": null,
       "order": null,
       "overflow": null,
       "overflow_x": null,
       "overflow_y": null,
       "padding": null,
       "right": null,
       "top": null,
       "visibility": null,
       "width": "190px"
      }
     },
     "4dd30bcccd1a49f5b18b9272e1778cfd": {
      "model_module": "@jupyter-widgets/controls",
      "model_module_version": "1.5.0",
      "model_name": "HTMLModel",
      "state": {
       "_dom_classes": [],
       "_model_module": "@jupyter-widgets/controls",
       "_model_module_version": "1.5.0",
       "_model_name": "HTMLModel",
       "_view_count": null,
       "_view_module": "@jupyter-widgets/controls",
       "_view_module_version": "1.5.0",
       "_view_name": "HTMLView",
       "description": "",
       "description_tooltip": null,
       "layout": "IPY_MODEL_53b5f87f07e7467aabce79da8e2d3fa4",
       "placeholder": "​",
       "style": "IPY_MODEL_7f9d35e7d46d4ab08dacdf8fec2995a4",
       "value": "<p style='font-family: IBM Plex Sans, Arial, Helvetica, sans-serif; font-size: 20px; font-weight: medium;'>Circuit Properties</p>"
      }
     },
     "53b5f87f07e7467aabce79da8e2d3fa4": {
      "model_module": "@jupyter-widgets/base",
      "model_module_version": "1.2.0",
      "model_name": "LayoutModel",
      "state": {
       "_model_module": "@jupyter-widgets/base",
       "_model_module_version": "1.2.0",
       "_model_name": "LayoutModel",
       "_view_count": null,
       "_view_module": "@jupyter-widgets/base",
       "_view_module_version": "1.2.0",
       "_view_name": "LayoutView",
       "align_content": null,
       "align_items": null,
       "align_self": null,
       "border": null,
       "bottom": null,
       "display": null,
       "flex": null,
       "flex_flow": null,
       "grid_area": null,
       "grid_auto_columns": null,
       "grid_auto_flow": null,
       "grid_auto_rows": null,
       "grid_column": null,
       "grid_gap": null,
       "grid_row": null,
       "grid_template_areas": null,
       "grid_template_columns": null,
       "grid_template_rows": null,
       "height": null,
       "justify_content": null,
       "justify_items": null,
       "left": null,
       "margin": "0px 0px 10px 0px",
       "max_height": null,
       "max_width": null,
       "min_height": null,
       "min_width": null,
       "object_fit": null,
       "object_position": null,
       "order": null,
       "overflow": null,
       "overflow_x": null,
       "overflow_y": null,
       "padding": null,
       "right": null,
       "top": null,
       "visibility": null,
       "width": null
      }
     },
     "5c25562365e04e80bc284f15f805476d": {
      "model_module": "@jupyter-widgets/controls",
      "model_module_version": "1.5.0",
      "model_name": "HTMLModel",
      "state": {
       "_dom_classes": [],
       "_model_module": "@jupyter-widgets/controls",
       "_model_module_version": "1.5.0",
       "_model_name": "HTMLModel",
       "_view_count": null,
       "_view_module": "@jupyter-widgets/controls",
       "_view_module_version": "1.5.0",
       "_view_name": "HTMLView",
       "description": "",
       "description_tooltip": null,
       "layout": "IPY_MODEL_4c9bf8524ba8439b938ee806c74f376f",
       "placeholder": "​",
       "style": "IPY_MODEL_1991e250972a41c4955d1222dc335b4e",
       "value": "<h5>Job ID</h5>"
      }
     },
     "63b91dd0550a4e8db275d8ad7659e662": {
      "model_module": "@jupyter-widgets/base",
      "model_module_version": "1.2.0",
      "model_name": "LayoutModel",
      "state": {
       "_model_module": "@jupyter-widgets/base",
       "_model_module_version": "1.2.0",
       "_model_name": "LayoutModel",
       "_view_count": null,
       "_view_module": "@jupyter-widgets/base",
       "_view_module_version": "1.2.0",
       "_view_name": "LayoutView",
       "align_content": null,
       "align_items": null,
       "align_self": null,
       "border": null,
       "bottom": null,
       "display": null,
       "flex": null,
       "flex_flow": null,
       "grid_area": null,
       "grid_auto_columns": null,
       "grid_auto_flow": null,
       "grid_auto_rows": null,
       "grid_column": null,
       "grid_gap": null,
       "grid_row": null,
       "grid_template_areas": null,
       "grid_template_columns": null,
       "grid_template_rows": null,
       "height": null,
       "justify_content": null,
       "justify_items": null,
       "left": null,
       "margin": null,
       "max_height": null,
       "max_width": null,
       "min_height": null,
       "min_width": null,
       "object_fit": null,
       "object_position": null,
       "order": null,
       "overflow": null,
       "overflow_x": null,
       "overflow_y": null,
       "padding": null,
       "right": null,
       "top": null,
       "visibility": null,
       "width": null
      }
     },
     "7f9d35e7d46d4ab08dacdf8fec2995a4": {
      "model_module": "@jupyter-widgets/controls",
      "model_module_version": "1.5.0",
      "model_name": "DescriptionStyleModel",
      "state": {
       "_model_module": "@jupyter-widgets/controls",
       "_model_module_version": "1.5.0",
       "_model_name": "DescriptionStyleModel",
       "_view_count": null,
       "_view_module": "@jupyter-widgets/base",
       "_view_module_version": "1.2.0",
       "_view_name": "StyleView",
       "description_width": ""
      }
     },
     "7fae6301bcb0440588f449c90b4d069f": {
      "model_module": "@jupyter-widgets/controls",
      "model_module_version": "1.5.0",
      "model_name": "HTMLModel",
      "state": {
       "_dom_classes": [],
       "_model_module": "@jupyter-widgets/controls",
       "_model_module_version": "1.5.0",
       "_model_name": "HTMLModel",
       "_view_count": null,
       "_view_module": "@jupyter-widgets/controls",
       "_view_module_version": "1.5.0",
       "_view_name": "HTMLView",
       "description": "",
       "description_tooltip": null,
       "layout": "IPY_MODEL_1e0e4503010c482cb2a84c9fd0bfba0e",
       "placeholder": "​",
       "style": "IPY_MODEL_f105131cff8a404099d0ac36e3d2d728",
       "value": "<h5>Status</h5>"
      }
     },
     "98a594ee115a4b4a8eb448db8d509287": {
      "model_module": "@jupyter-widgets/controls",
      "model_module_version": "1.5.0",
      "model_name": "HTMLModel",
      "state": {
       "_dom_classes": [],
       "_model_module": "@jupyter-widgets/controls",
       "_model_module_version": "1.5.0",
       "_model_name": "HTMLModel",
       "_view_count": null,
       "_view_module": "@jupyter-widgets/controls",
       "_view_module_version": "1.5.0",
       "_view_name": "HTMLView",
       "description": "",
       "description_tooltip": null,
       "layout": "IPY_MODEL_14756e0d1d2a428b933633d1a1b3a140",
       "placeholder": "​",
       "style": "IPY_MODEL_07f0e836222e49189a78da4ad1ab61eb",
       "value": "<h5>Queue</h5>"
      }
     },
     "aaaa53c544b743a080bb74ad3bd9a33b": {
      "model_module": "@jupyter-widgets/base",
      "model_module_version": "1.2.0",
      "model_name": "LayoutModel",
      "state": {
       "_model_module": "@jupyter-widgets/base",
       "_model_module_version": "1.2.0",
       "_model_name": "LayoutModel",
       "_view_count": null,
       "_view_module": "@jupyter-widgets/base",
       "_view_module_version": "1.2.0",
       "_view_name": "LayoutView",
       "align_content": null,
       "align_items": null,
       "align_self": null,
       "border": null,
       "bottom": null,
       "display": null,
       "flex": null,
       "flex_flow": null,
       "grid_area": "right",
       "grid_auto_columns": null,
       "grid_auto_flow": null,
       "grid_auto_rows": null,
       "grid_column": null,
       "grid_gap": null,
       "grid_row": null,
       "grid_template_areas": null,
       "grid_template_columns": null,
       "grid_template_rows": null,
       "height": null,
       "justify_content": null,
       "justify_items": null,
       "left": null,
       "margin": null,
       "max_height": null,
       "max_width": null,
       "min_height": null,
       "min_width": null,
       "object_fit": null,
       "object_position": null,
       "order": null,
       "overflow": null,
       "overflow_x": null,
       "overflow_y": null,
       "padding": "0px 0px 0px 0px",
       "right": null,
       "top": null,
       "visibility": null,
       "width": "70px"
      }
     },
     "ab77ef29af284d5788ab21b3457d5816": {
      "model_module": "@jupyter-widgets/base",
      "model_module_version": "1.2.0",
      "model_name": "LayoutModel",
      "state": {
       "_model_module": "@jupyter-widgets/base",
       "_model_module_version": "1.2.0",
       "_model_name": "LayoutModel",
       "_view_count": null,
       "_view_module": "@jupyter-widgets/base",
       "_view_module_version": "1.2.0",
       "_view_name": "LayoutView",
       "align_content": null,
       "align_items": null,
       "align_self": null,
       "border": null,
       "bottom": null,
       "display": null,
       "flex": null,
       "flex_flow": null,
       "grid_area": null,
       "grid_auto_columns": null,
       "grid_auto_flow": null,
       "grid_auto_rows": null,
       "grid_column": null,
       "grid_gap": null,
       "grid_row": null,
       "grid_template_areas": "\n                                       \". . . . right \"\n                                        ",
       "grid_template_columns": "20% 20% 20% 20% 20%",
       "grid_template_rows": null,
       "height": null,
       "justify_content": null,
       "justify_items": null,
       "left": null,
       "margin": null,
       "max_height": null,
       "max_width": null,
       "min_height": null,
       "min_width": null,
       "object_fit": null,
       "object_position": null,
       "order": null,
       "overflow": null,
       "overflow_x": null,
       "overflow_y": null,
       "padding": null,
       "right": null,
       "top": null,
       "visibility": null,
       "width": "100%"
      }
     },
     "c1aa5b4059074fc0b64f998c909f4f6a": {
      "model_module": "@jupyter-widgets/controls",
      "model_module_version": "1.5.0",
      "model_name": "GridBoxModel",
      "state": {
       "_dom_classes": [],
       "_model_module": "@jupyter-widgets/controls",
       "_model_module_version": "1.5.0",
       "_model_name": "GridBoxModel",
       "_view_count": null,
       "_view_module": "@jupyter-widgets/controls",
       "_view_module_version": "1.5.0",
       "_view_name": "GridBoxView",
       "box_style": "",
       "children": [
        "IPY_MODEL_49dcf6d010844c2caef76ca86bfd07c9"
       ],
       "layout": "IPY_MODEL_ab77ef29af284d5788ab21b3457d5816"
      }
     },
     "d666b2739d53425d9a4c7c84cd4ded08": {
      "model_module": "@jupyter-widgets/base",
      "model_module_version": "1.2.0",
      "model_name": "LayoutModel",
      "state": {
       "_model_module": "@jupyter-widgets/base",
       "_model_module_version": "1.2.0",
       "_model_name": "LayoutModel",
       "_view_count": null,
       "_view_module": "@jupyter-widgets/base",
       "_view_module_version": "1.2.0",
       "_view_name": "LayoutView",
       "align_content": null,
       "align_items": null,
       "align_self": null,
       "border": null,
       "bottom": null,
       "display": null,
       "flex": null,
       "flex_flow": null,
       "grid_area": null,
       "grid_auto_columns": null,
       "grid_auto_flow": null,
       "grid_auto_rows": null,
       "grid_column": null,
       "grid_gap": null,
       "grid_row": null,
       "grid_template_areas": null,
       "grid_template_columns": null,
       "grid_template_rows": null,
       "height": null,
       "justify_content": null,
       "justify_items": null,
       "left": null,
       "margin": "0px 0px 0px 37px",
       "max_height": null,
       "max_width": null,
       "min_height": null,
       "min_width": null,
       "object_fit": null,
       "object_position": null,
       "order": null,
       "overflow": null,
       "overflow_x": null,
       "overflow_y": null,
       "padding": null,
       "right": null,
       "top": null,
       "visibility": null,
       "width": "600px"
      }
     },
     "d8e2c5ccd95549b2801c90eadf292e93": {
      "model_module": "@jupyter-widgets/controls",
      "model_module_version": "1.5.0",
      "model_name": "ButtonStyleModel",
      "state": {
       "_model_module": "@jupyter-widgets/controls",
       "_model_module_version": "1.5.0",
       "_model_name": "ButtonStyleModel",
       "_view_count": null,
       "_view_module": "@jupyter-widgets/base",
       "_view_module_version": "1.2.0",
       "_view_name": "StyleView",
       "button_color": null,
       "font_weight": ""
      }
     },
     "e4ec412806c246f3bf544d989b36134d": {
      "model_module": "@jupyter-widgets/controls",
      "model_module_version": "1.5.0",
      "model_name": "DescriptionStyleModel",
      "state": {
       "_model_module": "@jupyter-widgets/controls",
       "_model_module_version": "1.5.0",
       "_model_name": "DescriptionStyleModel",
       "_view_count": null,
       "_view_module": "@jupyter-widgets/base",
       "_view_module_version": "1.2.0",
       "_view_name": "StyleView",
       "description_width": ""
      }
     },
     "f105131cff8a404099d0ac36e3d2d728": {
      "model_module": "@jupyter-widgets/controls",
      "model_module_version": "1.5.0",
      "model_name": "DescriptionStyleModel",
      "state": {
       "_model_module": "@jupyter-widgets/controls",
       "_model_module_version": "1.5.0",
       "_model_name": "DescriptionStyleModel",
       "_view_count": null,
       "_view_module": "@jupyter-widgets/base",
       "_view_module_version": "1.2.0",
       "_view_name": "StyleView",
       "description_width": ""
      }
     }
    },
    "version_major": 2,
    "version_minor": 0
   }
  }
 },
 "nbformat": 4,
 "nbformat_minor": 4
}
