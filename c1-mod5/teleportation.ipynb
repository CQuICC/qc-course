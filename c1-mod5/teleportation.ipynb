{
 "cells": [
  {
   "cell_type": "markdown",
   "metadata": {},
   "source": [
    "### Teleportation"
   ]
  },
  {
   "cell_type": "code",
   "execution_count": 1,
   "metadata": {},
   "outputs": [],
   "source": [
    "from qiskit import QuantumCircuit, QuantumRegister, ClassicalRegister\n",
    "from qiskit_aer import AerSimulator\n",
    "\n",
    "# for plotting\n",
    "from matplotlib import pyplot as plt"
   ]
  },
  {
   "cell_type": "markdown",
   "metadata": {},
   "source": [
    "We will now create registers and the basic circuit where we will do all the operations"
   ]
  },
  {
   "cell_type": "code",
   "execution_count": 2,
   "metadata": {},
   "outputs": [],
   "source": [
    "q_reg = QuantumRegister(3)\n",
    "c_reg = ClassicalRegister(3)\n",
    "\n",
    "# We have now created a blank QuantumCircuit with 3 qubits and 3 classical bits\n",
    "qc = QuantumCircuit(q_reg, c_reg)"
   ]
  },
  {
   "cell_type": "code",
   "execution_count": 3,
   "metadata": {},
   "outputs": [
    {
     "data": {
      "text/html": [
       "<pre style=\"word-wrap: normal;white-space: pre;background: #fff0;line-height: 1.1;font-family: &quot;Courier New&quot;,Courier,monospace\">      ┌───┐ ░            ░      ┌───┐ ░ ┌─┐    ░ \n",
       "q1_0: ┤ H ├─░────────────░───■──┤ H ├─░─┤M├────░─\n",
       "      └───┘ ░ ┌───┐      ░ ┌─┴─┐└───┘ ░ └╥┘┌─┐ ░ \n",
       "q1_1: ──────░─┤ H ├──■───░─┤ X ├──────░──╫─┤M├─░─\n",
       "            ░ └───┘┌─┴─┐ ░ └───┘      ░  ║ └╥┘ ░ \n",
       "q1_2: ──────░──────┤ X ├─░────────────░──╫──╫──░─\n",
       "            ░      └───┘ ░            ░  ║  ║  ░ \n",
       "c0: 3/═══════════════════════════════════╩══╩════\n",
       "                                         0  1    </pre>"
      ],
      "text/plain": [
       "      ┌───┐ ░            ░      ┌───┐ ░ ┌─┐    ░ \n",
       "q1_0: ┤ H ├─░────────────░───■──┤ H ├─░─┤M├────░─\n",
       "      └───┘ ░ ┌───┐      ░ ┌─┴─┐└───┘ ░ └╥┘┌─┐ ░ \n",
       "q1_1: ──────░─┤ H ├──■───░─┤ X ├──────░──╫─┤M├─░─\n",
       "            ░ └───┘┌─┴─┐ ░ └───┘      ░  ║ └╥┘ ░ \n",
       "q1_2: ──────░──────┤ X ├─░────────────░──╫──╫──░─\n",
       "            ░      └───┘ ░            ░  ║  ║  ░ \n",
       "c0: 3/═══════════════════════════════════╩══╩════\n",
       "                                         0  1    "
      ]
     },
     "execution_count": 3,
     "metadata": {},
     "output_type": "execute_result"
    }
   ],
   "source": [
    "# State Preparation\n",
    "qc.h(0)\n",
    "qc.barrier()\n",
    "# Generating a bell pair\n",
    "qc.h(1)\n",
    "qc.cx(1, 2)\n",
    "qc.barrier()\n",
    "# Alice's operations\n",
    "qc.cx(0, 1)\n",
    "qc.h(0)\n",
    "qc.barrier()\n",
    "qc.draw()\n",
    "# measurement!\n",
    "qc.measure(q_reg[0], c_reg[0])\n",
    "qc.measure(q_reg[1], c_reg[1])\n",
    "qc.barrier()\n",
    "qc.draw()"
   ]
  },
  {
   "cell_type": "markdown",
   "metadata": {},
   "source": [
    "We can now apply Bob's operations. In theory this completes the teleportation protocol! We however will add extra operations to verify that the teleportation was successful."
   ]
  },
  {
   "cell_type": "code",
   "execution_count": 4,
   "metadata": {},
   "outputs": [
    {
     "data": {
      "text/html": [
       "<pre style=\"word-wrap: normal;white-space: pre;background: #fff0;line-height: 1.1;font-family: &quot;Courier New&quot;,Courier,monospace\">      ┌───┐ ░            ░      ┌───┐ ░ ┌─┐    ░                            \n",
       "q1_0: ┤ H ├─░────────────░───■──┤ H ├─░─┤M├────░────────────────────────────\n",
       "      └───┘ ░ ┌───┐      ░ ┌─┴─┐└───┘ ░ └╥┘┌─┐ ░                            \n",
       "q1_1: ──────░─┤ H ├──■───░─┤ X ├──────░──╫─┤M├─░────────────────────────────\n",
       "            ░ └───┘┌─┴─┐ ░ └───┘      ░  ║ └╥┘ ░    ┌───┐       ┌───┐    ┌─┐\n",
       "q1_2: ──────░──────┤ X ├─░────────────░──╫──╫──░────┤ Z ├───────┤ X ├────┤M├\n",
       "            ░      └───┘ ░            ░  ║  ║  ░    └─╥─┘       └─╥─┘    └╥┘\n",
       "                                         ║  ║    ┌────╨─────┐┌────╨─────┐ ║ \n",
       "c0: 3/═══════════════════════════════════╩══╩════╡ c0_0=0x1 ╞╡ c0_1=0x1 ╞═╩═\n",
       "                                         0  1    └──────────┘└──────────┘ 2 </pre>"
      ],
      "text/plain": [
       "      ┌───┐ ░            ░      ┌───┐ ░ ┌─┐    ░                            \n",
       "q1_0: ┤ H ├─░────────────░───■──┤ H ├─░─┤M├────░────────────────────────────\n",
       "      └───┘ ░ ┌───┐      ░ ┌─┴─┐└───┘ ░ └╥┘┌─┐ ░                            \n",
       "q1_1: ──────░─┤ H ├──■───░─┤ X ├──────░──╫─┤M├─░────────────────────────────\n",
       "            ░ └───┘┌─┴─┐ ░ └───┘      ░  ║ └╥┘ ░    ┌───┐       ┌───┐    ┌─┐\n",
       "q1_2: ──────░──────┤ X ├─░────────────░──╫──╫──░────┤ Z ├───────┤ X ├────┤M├\n",
       "            ░      └───┘ ░            ░  ║  ║  ░    └─╥─┘       └─╥─┘    └╥┘\n",
       "                                         ║  ║    ┌────╨─────┐┌────╨─────┐ ║ \n",
       "c0: 3/═══════════════════════════════════╩══╩════╡ c0_0=0x1 ╞╡ c0_1=0x1 ╞═╩═\n",
       "                                         0  1    └──────────┘└──────────┘ 2 "
      ]
     },
     "execution_count": 4,
     "metadata": {},
     "output_type": "execute_result"
    }
   ],
   "source": [
    "qc.z(2).c_if(c_reg[0], 1)\n",
    "qc.x(2).c_if(c_reg[1], 1)\n",
    "# verification\n",
    "qc.measure(q_reg[2], c_reg[2])\n",
    "\n",
    "qc.draw()"
   ]
  },
  {
   "cell_type": "markdown",
   "metadata": {},
   "source": [
    "Let us now run this circuit on a simulator to see how it worked, for this we will use the `AerSimulator` from Qiskit."
   ]
  },
  {
   "cell_type": "code",
   "execution_count": 5,
   "metadata": {},
   "outputs": [
    {
     "name": "stdout",
     "output_type": "stream",
     "text": [
      "['101', '111', '100', '110', '001', '110', '001', '100', '111', '111', '011', '101', '010', '110', '001', '100', '010', '010', '010', '000', '001', '110', '111', '001', '010', '001', '010', '000', '011', '110', '110', '000', '011', '000', '100', '100', '110', '001', '001', '100', '101', '111', '010', '111', '111', '110', '110', '110', '101', '010', '000', '110', '000', '101', '001', '101', '010', '111', '011', '100', '101', '001', '000', '100', '000', '010', '010', '011', '001', '000', '001', '010', '111', '110', '100', '010', '010', '110', '100', '100', '010', '100', '100', '001', '011', '101', '110', '010', '100', '101', '001', '001', '101', '011', '100', '110', '110', '011', '000', '011', '000', '011', '000', '111', '001', '001', '111', '111', '000', '101', '000', '110', '011', '100', '001', '011', '001', '111', '100', '101', '110', '011', '111', '111', '111', '110', '011', '000', '001', '000', '101', '010', '101', '100', '010', '101', '010', '111', '010', '001', '000', '100', '100', '000', '010', '011', '101', '101', '001', '111', '111', '010', '110', '010', '101', '100', '100', '101', '110', '010', '101', '100', '000', '100', '111', '101', '001', '000', '001', '100', '101', '011', '011', '100', '100', '001', '100', '001', '001', '110', '011', '001', '100', '100', '110', '100', '110', '001', '010', '101', '100', '111', '011', '110', '000', '001', '011', '000', '000', '010', '010', '010', '111', '001', '010', '110', '110', '110', '100', '001', '111', '010', '011', '010', '011', '110', '001', '010', '100', '000', '111', '011', '010', '000', '001', '111', '110', '011', '101', '011', '000', '101', '110', '010', '100', '111', '000', '001', '010', '100', '011', '111', '100', '000', '000', '101', '011', '110', '100', '000', '011', '111', '110', '011', '001', '001', '110', '100', '100', '001', '111', '001', '000', '110', '010', '001', '111', '111', '101', '000', '101', '011', '000', '011', '000', '110', '011', '111', '100', '000', '000', '010', '111', '101', '111', '101', '101', '110', '100', '100', '100', '100', '100', '010', '111', '011', '000', '010', '101', '001', '100', '000', '001', '000', '110', '011', '001', '011', '010', '000', '100', '010', '010', '101', '110', '100', '100', '111', '101', '001', '100', '001', '100', '111', '011', '100', '010', '001', '111', '100', '111', '001', '010', '001', '111', '000', '101', '111', '111', '101', '111', '000', '000', '110', '001', '011', '111', '101', '000', '100', '001', '010', '010', '100', '001', '101', '110', '011', '100', '100', '100', '100', '100', '110', '001', '001', '110', '011', '001', '111', '100', '001', '001', '010', '000', '101', '100', '000', '010', '100', '001', '101', '101', '111', '010', '011', '011', '100', '001', '111', '100', '011', '110', '011', '011', '111', '111', '001', '100', '001', '110', '111', '000', '001', '111', '100', '111', '100', '011', '011', '101', '110', '111', '001', '111', '010', '100', '001', '000', '010', '101', '011', '010', '101', '011', '111', '011', '001', '111', '000', '010', '110', '010', '111', '100', '101', '000', '010', '010', '001', '100', '101', '101', '100', '010', '100', '010', '110', '111', '100', '111', '110', '100', '010', '110', '001', '000', '101', '000', '111', '110', '001', '110', '101', '100', '011', '110', '010', '101', '011', '000', '111', '010', '001', '110', '011', '001', '100', '100', '110', '100', '110', '001', '100', '011', '101', '111', '010', '110', '010', '001', '011', '101', '011', '111', '110', '100', '000', '011', '001', '101', '000', '101', '111', '111', '111', '100', '101', '001', '000', '101', '000', '111', '100', '011', '110', '010', '000', '000', '001', '001', '100', '100', '010', '001', '100', '111', '010', '100', '111', '111', '001', '010', '001', '001', '001', '101', '111', '010', '100', '010', '101', '000', '110', '000', '000', '001', '100', '101', '011', '100', '100', '011', '001', '110', '010', '100', '100', '011', '100', '000', '111', '010', '011', '000', '110', '110', '101', '010', '100', '101', '000', '111', '101', '001', '100', '111', '101', '101', '011', '111', '111', '001', '001', '011', '000', '101', '011', '101', '100', '011', '011', '010', '101', '100', '100', '000', '100', '110', '000', '110', '001', '111', '101', '101', '100', '000', '001', '110', '001', '011', '101', '110', '011', '111', '111', '111', '101', '111', '000', '000', '011', '000', '010', '010', '001', '001', '110', '101', '100', '001', '101', '011', '010', '000', '110', '110', '000', '001', '100', '001', '110', '010', '011', '100', '001', '100', '101', '000', '111', '000', '010', '011', '010', '011', '010', '100', '101', '100', '111', '011', '000', '001', '010', '000', '001', '101', '101', '011', '100', '100', '000', '011', '011', '001', '010', '111', '111', '111', '110', '100', '010', '111', '111', '000', '100', '001', '000', '111', '111', '111', '111', '011', '011', '111', '101', '011', '001', '101', '000', '011', '000', '110', '001', '100', '111', '011', '100', '000', '111', '101', '000', '011', '001', '100', '100', '100', '010', '101', '101', '110', '100', '000', '001', '101', '111', '010', '111', '011', '100', '110', '111', '010', '101', '111', '011', '000', '110', '111', '111', '111', '101', '010', '010', '111', '011', '100', '001', '101', '100', '111', '101', '101', '111', '011', '110', '001', '111', '101', '111', '000', '010', '000', '110', '011', '100', '110', '100', '000', '101', '011', '101', '111', '011', '101', '101', '011', '101', '101', '111', '010', '001', '101', '011', '001', '011', '100', '010', '011', '101', '100', '011', '111', '000', '100', '010', '000', '010', '111', '011', '010', '111', '111', '000', '001', '111', '110', '110', '000', '011', '001', '000', '100', '011', '001', '001', '111', '010', '111', '010', '000', '001', '110', '111', '111', '010', '010', '000', '101', '010', '110', '000', '111', '011', '100', '011', '000', '100', '001', '010', '101', '010', '001', '000', '011', '011', '100', '010', '111', '111', '010', '111', '000', '100', '010', '110', '110', '110', '011', '011', '000', '110', '111', '000', '000', '000', '001', '110', '010', '101', '101', '000', '011', '101', '100', '110', '110', '010', '011', '110', '111', '000', '010', '101', '111', '000', '110', '000', '001', '101', '000', '101', '000', '101', '101', '001', '111', '001', '010', '100', '001', '100', '101', '111', '001', '101', '000', '111', '101', '010', '011', '100', '110', '101', '010', '110', '011', '110', '000', '010', '101', '100', '010', '000', '011', '110', '000', '111', '101', '101', '000', '000', '011', '110', '000', '011', '110', '000', '011', '011', '101', '100', '101', '110', '110', '011', '010', '000', '110', '111', '010', '100', '100', '100', '101', '110', '000', '011', '000', '100', '110', '111', '000', '001', '100', '110', '110', '000', '000', '101', '110', '100', '001', '101', '111', '001', '000', '010', '010', '011', '011', '010', '111', '110', '010', '111', '101', '101', '100', '100', '101', '111', '101', '011', '101', '111', '000', '001', '101', '111', '100', '000', '001', '111', '101', '111', '000', '010', '111', '010', '110', '011', '001', '110', '000', '011', '001', '010', '001', '001', '001', '011', '011', '010']\n"
     ]
    }
   ],
   "source": [
    "sim = AerSimulator()\n",
    "\n",
    "# we run the circuit for 1024 shots, and ask it to save the memory\n",
    "result = sim.run([qc], shots=1024, memory=True).result()\n",
    "measurements = result.get_memory()\n",
    "print(measurements)"
   ]
  },
  {
   "cell_type": "markdown",
   "metadata": {},
   "source": [
    "In order to confirm our protocol has worked we need to check just the classical bit '2' (note not the 2nd bit but the bit at index 2) of the final statevector. We will now just extract those out and then print the histogram"
   ]
  },
  {
   "cell_type": "code",
   "execution_count": 6,
   "metadata": {},
   "outputs": [
    {
     "data": {
      "text/plain": [
       "(array([507., 517.]),\n",
       " array([0. , 0.5, 1. ]),\n",
       " <BarContainer object of 2 artists>)"
      ]
     },
     "execution_count": 6,
     "metadata": {},
     "output_type": "execute_result"
    },
    {
     "data": {
      "image/png": "[encoded data removed]",
      "text/plain": [
       "<Figure size 640x480 with 1 Axes>"
      ]
     },
     "metadata": {},
     "output_type": "display_data"
    }
   ],
   "source": [
    "bit_2 = [int(measurements[i][2]) for i in range(len(measurements))]\n",
    "plt.hist(bit_2, bins=2, edgecolor=\"r\")"
   ]
  },
  {
   "cell_type": "markdown",
   "metadata": {},
   "source": [
    "You can see we have obtained approximately equal probabilities for the states |0> and |1> which means the teleportation was successful. Naturally they are not exactly equal due to random chance. You can try running with more shots to see if the probabilities get closer to 0.5 each"
   ]
  },
  {
   "cell_type": "markdown",
   "metadata": {},
   "source": [
    "Created on Qiskit 1.1.0 and Qiskit-Aer 0.14.2 by IIT Madras for Quantum Computing"
   ]
  }
 ],
 "metadata": {
  "kernelspec": {
   "display_name": "shotty",
   "language": "python",
   "name": "python3"
  },
  "language_info": {
   "codemirror_mode": {
    "name": "ipython",
    "version": 3
   },
   "file_extension": ".py",
   "mimetype": "text/x-python",
   "name": "python",
   "nbconvert_exporter": "python",
   "pygments_lexer": "ipython3",
   "version": "3.10.14"
  }
 },
 "nbformat": 4,
 "nbformat_minor": 2
}
