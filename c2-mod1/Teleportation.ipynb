{
 "cells": [
  {
   "cell_type": "code",
   "execution_count": 5,
   "id": "2c0239b9",
   "metadata": {},
   "outputs": [
    {
     "name": "stdout",
     "output_type": "stream",
     "text": [
      "qiskit==1.3.1\n",
      "qiskit-aer==0.16.0\n",
      "qiskit-algorithms==0.3.1\n",
      "qiskit-experiments==0.8.1\n",
      "qiskit-ibm-experiment==0.4.8\n",
      "qiskit-ibm-provider==0.11.0\n",
      "qiskit-ibm-runtime==0.34.0\n",
      "qiskit-machine-learning==0.8.2\n"
     ]
    }
   ],
   "source": [
    "!pip freeze | grep qiskit"
   ]
  },
  {
   "cell_type": "code",
   "execution_count": 1,
   "id": "2262255e-6753-4f98-ab48-6cf850ed7030",
   "metadata": {
    "tags": []
   },
   "outputs": [],
   "source": [
    "from qiskit import QuantumRegister, ClassicalRegister, QuantumCircuit, transpile\n",
    "from qiskit_ibm_runtime import QiskitRuntimeService\n",
    "from qiskit_aer import AerSimulator\n",
    "import matplotlib.pyplot as plt\n",
    "\n",
    "service = QiskitRuntimeService(channel=\"local\")"
   ]
  },
  {
   "cell_type": "code",
   "execution_count": 2,
   "id": "e092d38f-3d6d-4ced-a2d6-7c0f1671b4bc",
   "metadata": {
    "tags": []
   },
   "outputs": [
    {
     "name": "stderr",
     "output_type": "stream",
     "text": [
      "/var/folders/mt/y75db3512zv_8r60rn4pb82h0000gn/T/ipykernel_79994/2104196639.py:24: DeprecationWarning: The method ``qiskit.circuit.instructionset.InstructionSet.c_if()`` is deprecated as of qiskit 1.3.0. It will be removed in 2.0.0.\n",
      "  q_ckt.z(q_reg[2]).c_if(c_reg[0], 1)\n",
      "/var/folders/mt/y75db3512zv_8r60rn4pb82h0000gn/T/ipykernel_79994/2104196639.py:25: DeprecationWarning: The method ``qiskit.circuit.instructionset.InstructionSet.c_if()`` is deprecated as of qiskit 1.3.0. It will be removed in 2.0.0.\n",
      "  q_ckt.x(q_reg[2]).c_if(c_reg[1], 1)\n"
     ]
    },
    {
     "data": {
      "text/html": [
       "<pre style=\"word-wrap: normal;white-space: pre;background: #fff0;line-height: 1.1;font-family: &quot;Courier New&quot;,Courier,monospace\">      ┌───┐ ░            ░      ┌───┐ ░ ┌─┐    ░                          ░    \n",
       "q1_0: ┤ H ├─░────────────░───■──┤ H ├─░─┤M├────░──────────────────────────░────\n",
       "      └───┘ ░ ┌───┐      ░ ┌─┴─┐└───┘ ░ └╥┘┌─┐ ░                          ░    \n",
       "q1_1: ──────░─┤ H ├──■───░─┤ X ├──────░──╫─┤M├─░──────────────────────────░────\n",
       "            ░ └───┘┌─┴─┐ ░ └───┘      ░  ║ └╥┘ ░    ┌───┐       ┌───┐     ░ ┌─┐\n",
       "q1_2: ──────░──────┤ X ├─░────────────░──╫──╫──░────┤ Z ├───────┤ X ├─────░─┤M├\n",
       "            ░      └───┘ ░            ░  ║  ║  ░    └─╥─┘       └─╥─┘     ░ └╥┘\n",
       "                                         ║  ║    ┌────╨─────┐┌────╨─────┐    ║ \n",
       "c0: 3/═══════════════════════════════════╩══╩════╡ c0_0=0x1 ╞╡ c0_1=0x1 ╞════╩═\n",
       "                                         0  1    └──────────┘└──────────┘    2 </pre>"
      ],
      "text/plain": [
       "      ┌───┐ ░            ░      ┌───┐ ░ ┌─┐    ░                          ░    \n",
       "q1_0: ┤ H ├─░────────────░───■──┤ H ├─░─┤M├────░──────────────────────────░────\n",
       "      └───┘ ░ ┌───┐      ░ ┌─┴─┐└───┘ ░ └╥┘┌─┐ ░                          ░    \n",
       "q1_1: ──────░─┤ H ├──■───░─┤ X ├──────░──╫─┤M├─░──────────────────────────░────\n",
       "            ░ └───┘┌─┴─┐ ░ └───┘      ░  ║ └╥┘ ░    ┌───┐       ┌───┐     ░ ┌─┐\n",
       "q1_2: ──────░──────┤ X ├─░────────────░──╫──╫──░────┤ Z ├───────┤ X ├─────░─┤M├\n",
       "            ░      └───┘ ░            ░  ║  ║  ░    └─╥─┘       └─╥─┘     ░ └╥┘\n",
       "                                         ║  ║    ┌────╨─────┐┌────╨─────┐    ║ \n",
       "c0: 3/═══════════════════════════════════╩══╩════╡ c0_0=0x1 ╞╡ c0_1=0x1 ╞════╩═\n",
       "                                         0  1    └──────────┘└──────────┘    2 "
      ]
     },
     "execution_count": 2,
     "metadata": {},
     "output_type": "execute_result"
    }
   ],
   "source": [
    "q_reg, c_reg = QuantumRegister(3), ClassicalRegister(3)\n",
    "q_ckt = QuantumCircuit(q_reg, c_reg)\n",
    "\n",
    "#State preparation\n",
    "q_ckt.h(q_reg[0])\n",
    "q_ckt.barrier()\n",
    "\n",
    "#Bell state preparation\n",
    "q_ckt.h(q_reg[1])\n",
    "q_ckt.cx(q_reg[1], q_reg[2])\n",
    "q_ckt.barrier()\n",
    "\n",
    "#Alice's interaction\n",
    "q_ckt.cx(q_reg[0], q_reg[1])\n",
    "q_ckt.h(q_reg[0])\n",
    "q_ckt.barrier()\n",
    "\n",
    "#Alice's measurement\n",
    "q_ckt.measure(q_reg[0], c_reg[0])\n",
    "q_ckt.measure(q_reg[1], c_reg[1])\n",
    "q_ckt.barrier()\n",
    "\n",
    "#Bob's operation\n",
    "q_ckt.z(q_reg[2]).c_if(c_reg[0], 1)\n",
    "q_ckt.x(q_reg[2]).c_if(c_reg[1], 1)\n",
    "q_ckt.barrier()\n",
    "\n",
    "#Verification of state received\n",
    "q_ckt.measure(q_reg[2], c_reg[2])\n",
    "q_ckt.draw()"
   ]
  },
  {
   "cell_type": "code",
   "execution_count": 3,
   "id": "0d0c0955",
   "metadata": {},
   "outputs": [],
   "source": [
    "sim = AerSimulator()\n",
    "result = sim.run(q_ckt, backend=sim, shots=100, memory=True).result()"
   ]
  },
  {
   "cell_type": "code",
   "execution_count": 4,
   "id": "88aaafd0-f8ba-4ca0-a29a-e9031be43ee7",
   "metadata": {
    "tags": []
   },
   "outputs": [
    {
     "data": {
      "text/plain": [
       "(array([56., 44.]), array([0. , 0.5, 1. ]), <BarContainer object of 2 artists>)"
      ]
     },
     "execution_count": 4,
     "metadata": {},
     "output_type": "execute_result"
    },
    {
     "data": {
      "image/png": "[encoded data removed]",
      "text/plain": [
       "<Figure size 640x480 with 1 Axes>"
      ]
     },
     "metadata": {},
     "output_type": "display_data"
    }
   ],
   "source": [
    "r=[]\n",
    "for i in range(100):\n",
    "  r.append(int(result.get_memory()[i][2]))\n",
    "\n",
    "plt.hist(r, bins=2, edgecolor='r')"
   ]
  }
 ],
 "metadata": {
  "kernelspec": {
   "display_name": "shotty",
   "language": "python",
   "name": "python3"
  },
  "language_info": {
   "codemirror_mode": {
    "name": "ipython",
    "version": 3
   },
   "file_extension": ".py",
   "mimetype": "text/x-python",
   "name": "python",
   "nbconvert_exporter": "python",
   "pygments_lexer": "ipython3",
   "version": "3.12.8"
  },
  "widgets": {
   "application/vnd.jupyter.widget-state+json": {
    "state": {
     "10ea2feaa0cd46e3afba392d24942417": {
      "model_module": "@jupyter-widgets/base",
      "model_module_version": "2.0.0",
      "model_name": "LayoutModel",
      "state": {
       "width": "95px"
      }
     },
     "13cccc2aba7a4c2b9c88b6e6fe1af957": {
      "model_module": "@jupyter-widgets/controls",
      "model_module_version": "2.0.0",
      "model_name": "HTMLModel",
      "state": {
       "layout": "IPY_MODEL_301b7e48e12443c3a04a7acaa910f2e5",
       "style": "IPY_MODEL_7600dfc9e8fb46d0b6c2e4477b941023",
       "value": "<h5>Message</h5>"
      }
     },
     "1c06de26dd914e95ab9825b8e948ebae": {
      "model_module": "@jupyter-widgets/controls",
      "model_module_version": "2.0.0",
      "model_name": "ButtonModel",
      "state": {
       "button_style": "primary",
       "description": "Clear",
       "layout": "IPY_MODEL_5696bae3e0d142e6bfcdec2f43a0c583",
       "style": "IPY_MODEL_bd1d0267fec245e1921a2d75abdf39c6",
       "tooltip": null
      }
     },
     "1c2a458ebc7e4bbd8023cade01e5d937": {
      "model_module": "@jupyter-widgets/controls",
      "model_module_version": "2.0.0",
      "model_name": "HTMLStyleModel",
      "state": {
       "description_width": "",
       "font_size": null,
       "text_color": null
      }
     },
     "2cc165dad508429095f4a957342f48ad": {
      "model_module": "@jupyter-widgets/controls",
      "model_module_version": "2.0.0",
      "model_name": "HTMLStyleModel",
      "state": {
       "description_width": "",
       "font_size": null,
       "text_color": null
      }
     },
     "301b7e48e12443c3a04a7acaa910f2e5": {
      "model_module": "@jupyter-widgets/base",
      "model_module_version": "2.0.0",
      "model_name": "LayoutModel",
      "state": {}
     },
     "4bda717f8ba843d58e9d483c0c6b03a5": {
      "model_module": "@jupyter-widgets/controls",
      "model_module_version": "2.0.0",
      "model_name": "HTMLStyleModel",
      "state": {
       "description_width": "",
       "font_size": null,
       "text_color": null
      }
     },
     "564aa30a907241188bf46c082ede82e5": {
      "model_module": "@jupyter-widgets/base",
      "model_module_version": "2.0.0",
      "model_name": "LayoutModel",
      "state": {
       "margin": "0px 0px 0px 37px",
       "width": "600px"
      }
     },
     "5696bae3e0d142e6bfcdec2f43a0c583": {
      "model_module": "@jupyter-widgets/base",
      "model_module_version": "2.0.0",
      "model_name": "LayoutModel",
      "state": {
       "grid_area": "right",
       "padding": "0px 0px 0px 0px",
       "width": "70px"
      }
     },
     "5a27b0f25926461197908af80312ea11": {
      "model_module": "@jupyter-widgets/base",
      "model_module_version": "2.0.0",
      "model_name": "LayoutModel",
      "state": {
       "margin": "0px 0px 10px 0px"
      }
     },
     "6d864a0134974ecb96a9b1bf259ea72e": {
      "model_module": "@jupyter-widgets/controls",
      "model_module_version": "2.0.0",
      "model_name": "HTMLStyleModel",
      "state": {
       "description_width": "",
       "font_size": null,
       "text_color": null
      }
     },
     "7600dfc9e8fb46d0b6c2e4477b941023": {
      "model_module": "@jupyter-widgets/controls",
      "model_module_version": "2.0.0",
      "model_name": "HTMLStyleModel",
      "state": {
       "description_width": "",
       "font_size": null,
       "text_color": null
      }
     },
     "7acff5f9b55e4ddd9b4d608a84fe08eb": {
      "model_module": "@jupyter-widgets/controls",
      "model_module_version": "2.0.0",
      "model_name": "HBoxModel",
      "state": {
       "children": [
        "IPY_MODEL_bde8462e22044f2e88553838d6f29b91",
        "IPY_MODEL_b89bd6522fd24285a1abe31bc195cd25",
        "IPY_MODEL_911ff476f1e64c47ad6085a2ebe82c29",
        "IPY_MODEL_c22664f88d9e4e2485da6da8ba8a79e6",
        "IPY_MODEL_13cccc2aba7a4c2b9c88b6e6fe1af957"
       ],
       "layout": "IPY_MODEL_564aa30a907241188bf46c082ede82e5"
      }
     },
     "7c0f5f8c92dc4737aeef15ebe1e88a25": {
      "model_module": "@jupyter-widgets/controls",
      "model_module_version": "2.0.0",
      "model_name": "HTMLModel",
      "state": {
       "layout": "IPY_MODEL_5a27b0f25926461197908af80312ea11",
       "style": "IPY_MODEL_cc816b707b484c7993a34cace9e69c8e",
       "value": "<p style='font-family: IBM Plex Sans, Arial, Helvetica, sans-serif; font-size: 20px; font-weight: medium;'>Circuit Properties</p>"
      }
     },
     "87b10bec73d9418a89157db33c198eb9": {
      "model_module": "@jupyter-widgets/base",
      "model_module_version": "2.0.0",
      "model_name": "LayoutModel",
      "state": {
       "width": "190px"
      }
     },
     "911ff476f1e64c47ad6085a2ebe82c29": {
      "model_module": "@jupyter-widgets/controls",
      "model_module_version": "2.0.0",
      "model_name": "HTMLModel",
      "state": {
       "layout": "IPY_MODEL_10ea2feaa0cd46e3afba392d24942417",
       "style": "IPY_MODEL_6d864a0134974ecb96a9b1bf259ea72e",
       "value": "<h5>Status</h5>"
      }
     },
     "aa39cd56cb8e4bfb818b4e5f17c512f6": {
      "model_module": "@jupyter-widgets/controls",
      "model_module_version": "2.0.0",
      "model_name": "GridBoxModel",
      "state": {
       "children": [
        "IPY_MODEL_1c06de26dd914e95ab9825b8e948ebae"
       ],
       "layout": "IPY_MODEL_fdea4ec92f724eacb51f3009e3289160"
      }
     },
     "ac89a80f68104951bea7258fc5fb2f09": {
      "model_module": "@jupyter-widgets/base",
      "model_module_version": "2.0.0",
      "model_name": "LayoutModel",
      "state": {
       "width": "145px"
      }
     },
     "b89bd6522fd24285a1abe31bc195cd25": {
      "model_module": "@jupyter-widgets/controls",
      "model_module_version": "2.0.0",
      "model_name": "HTMLModel",
      "state": {
       "layout": "IPY_MODEL_ac89a80f68104951bea7258fc5fb2f09",
       "style": "IPY_MODEL_2cc165dad508429095f4a957342f48ad",
       "value": "<h5>Backend</h5>"
      }
     },
     "bd1d0267fec245e1921a2d75abdf39c6": {
      "model_module": "@jupyter-widgets/controls",
      "model_module_version": "2.0.0",
      "model_name": "ButtonStyleModel",
      "state": {
       "font_family": null,
       "font_size": null,
       "font_style": null,
       "font_variant": null,
       "font_weight": null,
       "text_color": null,
       "text_decoration": null
      }
     },
     "bde8462e22044f2e88553838d6f29b91": {
      "model_module": "@jupyter-widgets/controls",
      "model_module_version": "2.0.0",
      "model_name": "HTMLModel",
      "state": {
       "layout": "IPY_MODEL_87b10bec73d9418a89157db33c198eb9",
       "style": "IPY_MODEL_1c2a458ebc7e4bbd8023cade01e5d937",
       "value": "<h5>Job ID</h5>"
      }
     },
     "c22664f88d9e4e2485da6da8ba8a79e6": {
      "model_module": "@jupyter-widgets/controls",
      "model_module_version": "2.0.0",
      "model_name": "HTMLModel",
      "state": {
       "layout": "IPY_MODEL_ccf3d46806404dbc84695f0eeef11c3c",
       "style": "IPY_MODEL_4bda717f8ba843d58e9d483c0c6b03a5",
       "value": "<h5>Queue</h5>"
      }
     },
     "cc816b707b484c7993a34cace9e69c8e": {
      "model_module": "@jupyter-widgets/controls",
      "model_module_version": "2.0.0",
      "model_name": "HTMLStyleModel",
      "state": {
       "description_width": "",
       "font_size": null,
       "text_color": null
      }
     },
     "ccf3d46806404dbc84695f0eeef11c3c": {
      "model_module": "@jupyter-widgets/base",
      "model_module_version": "2.0.0",
      "model_name": "LayoutModel",
      "state": {
       "width": "70px"
      }
     },
     "fdea4ec92f724eacb51f3009e3289160": {
      "model_module": "@jupyter-widgets/base",
      "model_module_version": "2.0.0",
      "model_name": "LayoutModel",
      "state": {
       "grid_template_areas": "\n                                       \". . . . right \"\n                                        ",
       "grid_template_columns": "20% 20% 20% 20% 20%",
       "width": "100%"
      }
     }
    },
    "version_major": 2,
    "version_minor": 0
   }
  }
 },
 "nbformat": 4,
 "nbformat_minor": 5
}
